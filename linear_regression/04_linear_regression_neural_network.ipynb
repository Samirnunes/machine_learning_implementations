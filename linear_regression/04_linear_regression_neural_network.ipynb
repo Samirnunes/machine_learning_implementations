{
 "cells": [
  {
   "cell_type": "markdown",
   "id": "fb19846c",
   "metadata": {},
   "source": [
    "# Data for Admission in the University: analisando modelos de Redes Neurais"
   ]
  },
  {
   "cell_type": "markdown",
   "id": "6573f028",
   "metadata": {},
   "source": [
    "## Importando as bibliotecas necessárias"
   ]
  },
  {
   "cell_type": "code",
   "execution_count": 2,
   "id": "d983fe89",
   "metadata": {
    "scrolled": true
   },
   "outputs": [],
   "source": [
    "import pandas as pd\n",
    "import numpy as np\n",
    "import tensorflow as tf\n",
    "import matplotlib.pyplot as plt\n",
    "import os\n",
    "from sklearn.model_selection import train_test_split, KFold"
   ]
  },
  {
   "cell_type": "markdown",
   "id": "b39ca4b0",
   "metadata": {},
   "source": [
    "---"
   ]
  },
  {
   "cell_type": "markdown",
   "id": "f8d81340",
   "metadata": {},
   "source": [
    "## Importando os dados"
   ]
  },
  {
   "cell_type": "code",
   "execution_count": 3,
   "id": "297f5d14",
   "metadata": {},
   "outputs": [],
   "source": [
    "data_path = os.path.join('data', 'adm_data.csv')\n",
    "data = pd.read_csv(data_path)"
   ]
  },
  {
   "cell_type": "markdown",
   "id": "328c0e39",
   "metadata": {},
   "source": [
    "#### Renomeando colunas para tirar espaços desnecessários e facilitar o acesso a elas"
   ]
  },
  {
   "cell_type": "code",
   "execution_count": 4,
   "id": "991dd87e",
   "metadata": {},
   "outputs": [],
   "source": [
    "data.rename(columns = {'Chance of Admit ': 'Chance of Admit'}, inplace = True)\n",
    "data.rename(columns = {'LOR ': 'LOR'}, inplace = True)"
   ]
  },
  {
   "cell_type": "markdown",
   "id": "126bbbe4",
   "metadata": {},
   "source": [
    "---"
   ]
  },
  {
   "cell_type": "markdown",
   "id": "edaa7733",
   "metadata": {},
   "source": [
    "## Visualizando os dados"
   ]
  },
  {
   "cell_type": "code",
   "execution_count": 5,
   "id": "925a64b6",
   "metadata": {
    "scrolled": false
   },
   "outputs": [
    {
     "data": {
      "text/html": [
       "<div>\n",
       "<style scoped>\n",
       "    .dataframe tbody tr th:only-of-type {\n",
       "        vertical-align: middle;\n",
       "    }\n",
       "\n",
       "    .dataframe tbody tr th {\n",
       "        vertical-align: top;\n",
       "    }\n",
       "\n",
       "    .dataframe thead th {\n",
       "        text-align: right;\n",
       "    }\n",
       "</style>\n",
       "<table border=\"1\" class=\"dataframe\">\n",
       "  <thead>\n",
       "    <tr style=\"text-align: right;\">\n",
       "      <th></th>\n",
       "      <th>Serial No.</th>\n",
       "      <th>GRE Score</th>\n",
       "      <th>TOEFL Score</th>\n",
       "      <th>University Rating</th>\n",
       "      <th>SOP</th>\n",
       "      <th>LOR</th>\n",
       "      <th>CGPA</th>\n",
       "      <th>Research</th>\n",
       "      <th>Chance of Admit</th>\n",
       "    </tr>\n",
       "  </thead>\n",
       "  <tbody>\n",
       "    <tr>\n",
       "      <th>0</th>\n",
       "      <td>1</td>\n",
       "      <td>337</td>\n",
       "      <td>118</td>\n",
       "      <td>4</td>\n",
       "      <td>4.5</td>\n",
       "      <td>4.5</td>\n",
       "      <td>9.65</td>\n",
       "      <td>1</td>\n",
       "      <td>0.92</td>\n",
       "    </tr>\n",
       "    <tr>\n",
       "      <th>1</th>\n",
       "      <td>2</td>\n",
       "      <td>324</td>\n",
       "      <td>107</td>\n",
       "      <td>4</td>\n",
       "      <td>4.0</td>\n",
       "      <td>4.5</td>\n",
       "      <td>8.87</td>\n",
       "      <td>1</td>\n",
       "      <td>0.76</td>\n",
       "    </tr>\n",
       "    <tr>\n",
       "      <th>2</th>\n",
       "      <td>3</td>\n",
       "      <td>316</td>\n",
       "      <td>104</td>\n",
       "      <td>3</td>\n",
       "      <td>3.0</td>\n",
       "      <td>3.5</td>\n",
       "      <td>8.00</td>\n",
       "      <td>1</td>\n",
       "      <td>0.72</td>\n",
       "    </tr>\n",
       "    <tr>\n",
       "      <th>3</th>\n",
       "      <td>4</td>\n",
       "      <td>322</td>\n",
       "      <td>110</td>\n",
       "      <td>3</td>\n",
       "      <td>3.5</td>\n",
       "      <td>2.5</td>\n",
       "      <td>8.67</td>\n",
       "      <td>1</td>\n",
       "      <td>0.80</td>\n",
       "    </tr>\n",
       "    <tr>\n",
       "      <th>4</th>\n",
       "      <td>5</td>\n",
       "      <td>314</td>\n",
       "      <td>103</td>\n",
       "      <td>2</td>\n",
       "      <td>2.0</td>\n",
       "      <td>3.0</td>\n",
       "      <td>8.21</td>\n",
       "      <td>0</td>\n",
       "      <td>0.65</td>\n",
       "    </tr>\n",
       "  </tbody>\n",
       "</table>\n",
       "</div>"
      ],
      "text/plain": [
       "   Serial No.  GRE Score  TOEFL Score  University Rating  SOP  LOR  CGPA  \\\n",
       "0           1        337          118                  4  4.5  4.5  9.65   \n",
       "1           2        324          107                  4  4.0  4.5  8.87   \n",
       "2           3        316          104                  3  3.0  3.5  8.00   \n",
       "3           4        322          110                  3  3.5  2.5  8.67   \n",
       "4           5        314          103                  2  2.0  3.0  8.21   \n",
       "\n",
       "   Research  Chance of Admit  \n",
       "0         1             0.92  \n",
       "1         1             0.76  \n",
       "2         1             0.72  \n",
       "3         1             0.80  \n",
       "4         0             0.65  "
      ]
     },
     "execution_count": 5,
     "metadata": {},
     "output_type": "execute_result"
    }
   ],
   "source": [
    "data.head()"
   ]
  },
  {
   "cell_type": "markdown",
   "id": "d61ec582",
   "metadata": {},
   "source": [
    "#### Retirando a coluna 'Serial No.', que não será utilizada"
   ]
  },
  {
   "cell_type": "code",
   "execution_count": 6,
   "id": "d93ccd7d",
   "metadata": {},
   "outputs": [],
   "source": [
    "data1 = data.drop(columns = ['Serial No.'])"
   ]
  },
  {
   "cell_type": "markdown",
   "id": "86bfaadd",
   "metadata": {},
   "source": [
    "#### Definindo features e label"
   ]
  },
  {
   "cell_type": "code",
   "execution_count": 7,
   "id": "eebb1504",
   "metadata": {},
   "outputs": [],
   "source": [
    "label = ['Chance of Admit']\n",
    "features = list(set(data1.columns).difference(label))"
   ]
  },
  {
   "cell_type": "code",
   "execution_count": 8,
   "id": "c3c2bb0a",
   "metadata": {},
   "outputs": [
    {
     "data": {
      "text/plain": [
       "['Research',\n",
       " 'TOEFL Score',\n",
       " 'GRE Score',\n",
       " 'SOP',\n",
       " 'CGPA',\n",
       " 'LOR',\n",
       " 'University Rating']"
      ]
     },
     "execution_count": 8,
     "metadata": {},
     "output_type": "execute_result"
    }
   ],
   "source": [
    "features"
   ]
  },
  {
   "cell_type": "markdown",
   "id": "2a72a3c6",
   "metadata": {},
   "source": [
    "---"
   ]
  },
  {
   "cell_type": "markdown",
   "id": "a6047ba7",
   "metadata": {},
   "source": [
    "## Separando os dados"
   ]
  },
  {
   "cell_type": "code",
   "execution_count": 9,
   "id": "04f8ceff",
   "metadata": {},
   "outputs": [],
   "source": [
    "X = data[features]\n",
    "y = data[label]"
   ]
  },
  {
   "cell_type": "markdown",
   "id": "c494d4fb",
   "metadata": {},
   "source": [
    "#### Split dos dados em train e test"
   ]
  },
  {
   "cell_type": "code",
   "execution_count": 10,
   "id": "9cf9ecb3",
   "metadata": {},
   "outputs": [],
   "source": [
    "random_state = 25\n",
    "# Aqui o shuffling dos índices é automático.\n",
    "X_train, X_test, y_train, y_test = train_test_split(X, y, test_size = 0.3, random_state = random_state)"
   ]
  },
  {
   "cell_type": "markdown",
   "id": "f249ae69",
   "metadata": {},
   "source": [
    "---"
   ]
  },
  {
   "cell_type": "markdown",
   "id": "06b4a894",
   "metadata": {},
   "source": [
    "## Pré-processamento"
   ]
  },
  {
   "cell_type": "markdown",
   "id": "cbea030d",
   "metadata": {},
   "source": [
    "#### Scaling nos dados para obter features no intervalo [0, 1]"
   ]
  },
  {
   "cell_type": "code",
   "execution_count": 11,
   "id": "227a1f56",
   "metadata": {},
   "outputs": [],
   "source": [
    "X_train_scaled = (X_train - X_train.min())/(X_train.max() - X_train.min())\n",
    "X_test_scaled = (X_test - X_train.min())/(X_train.max() - X_train.min())\n",
    "# y_train e y_test já estão na escala correta, pois são probabilidades.\n",
    "y_train_scaled = y_train\n",
    "y_test_scaled = y_test"
   ]
  },
  {
   "cell_type": "markdown",
   "id": "588a43a9",
   "metadata": {},
   "source": [
    "---"
   ]
  },
  {
   "cell_type": "markdown",
   "id": "88ca288c",
   "metadata": {},
   "source": [
    "## Criando funções para nos ajudar a definir e treinar o modelo"
   ]
  },
  {
   "cell_type": "code",
   "execution_count": 12,
   "id": "32348741",
   "metadata": {},
   "outputs": [],
   "source": [
    "def create_model(first_layer_units = 32, alpha = 0.1, reg_lambda = 0.1, features = [], random_seed = 0):\n",
    "    '''Creates a defined model with learning rate = alpha.'''\n",
    "    # Defining Tensorflow's random seed to generate reproducible results.\n",
    "    tf.keras.utils.set_random_seed(random_seed)\n",
    "    tf.config.experimental.enable_op_determinism()\n",
    "    \n",
    "    # We will be using Tensorflow's Sequencial API to build our model.\n",
    "    model = tf.keras.models.Sequential()\n",
    "    \n",
    "    # Adding first layer with input_dim = number of features and relu activation function \n",
    "    # to learn some non-linearities. We will also add L2 regularization in layer's kernel (weights).\n",
    "    model.add(tf.keras.layers.Dense(units = first_layer_units, input_shape = (len(features), ), \n",
    "                                   kernel_regularizer = tf.keras.regularizers.L2(l2 = reg_lambda),\n",
    "                                   activation = 'relu'))\n",
    "    \n",
    "    # Adding output layer with linear activation (linear regression output).\n",
    "    \n",
    "    model.add(tf.keras.layers.Dense(units = 1, activation = 'linear'))\n",
    "    \n",
    "    # Compiling model: selecting optimizer, loss and metrics.\n",
    "    \n",
    "    model.compile(optimizer = tf.keras.optimizers.RMSprop(learning_rate = alpha),\n",
    "                 loss = 'mean_squared_error',\n",
    "                 metrics = tf.keras.metrics.MeanSquaredError())\n",
    "    \n",
    "    return model"
   ]
  },
  {
   "cell_type": "code",
   "execution_count": 13,
   "id": "a1766c0c",
   "metadata": {},
   "outputs": [],
   "source": [
    "def train_model(model = None, X_train = None, y_train = None, epochs = 10,\n",
    "               batch_size = 10, validation_split = 0.3,\n",
    "               random_seed = 0):\n",
    "    tf.keras.utils.set_random_seed(random_seed)\n",
    "    tf.config.experimental.enable_op_determinism()\n",
    "    history = model.fit(x = X_train, y = y_train, batch_size = batch_size,\n",
    "         epochs = epochs, shuffle = False, \n",
    "         validation_split = validation_split, verbose = 0)\n",
    "    \n",
    "    hist = pd.DataFrame(history.history)\n",
    "    train_mse = np.array(hist['mean_squared_error'])\n",
    "    if validation_split != 0:\n",
    "        val_mse = np.array(hist['val_mean_squared_error'])\n",
    "        return train_mse, val_mse\n",
    "    return train_mse"
   ]
  },
  {
   "cell_type": "code",
   "execution_count": 14,
   "id": "d37b06ea",
   "metadata": {},
   "outputs": [],
   "source": [
    "def test_evaluation(model = None, X_test = None, y_test = None, batch_size = 10):\n",
    "    return model.evaluate(X_test, y_test, batch_size = batch_size, verbose = 0)"
   ]
  },
  {
   "cell_type": "markdown",
   "id": "73cb6a8a",
   "metadata": {},
   "source": [
    "---"
   ]
  },
  {
   "cell_type": "markdown",
   "id": "0802900f",
   "metadata": {},
   "source": [
    "## Treinamento do modelo"
   ]
  },
  {
   "cell_type": "markdown",
   "id": "eeb4a24a",
   "metadata": {},
   "source": [
    "### Definição dos hiperparâmetros"
   ]
  },
  {
   "cell_type": "code",
   "execution_count": 15,
   "id": "f56f14e7",
   "metadata": {},
   "outputs": [],
   "source": [
    "hp = {'first_layer_units': 64, 'epochs': 6, 'batch_size': 20, 'alpha': 0.001, 'reg_lambda': 0.1}"
   ]
  },
  {
   "cell_type": "markdown",
   "id": "61f854a4",
   "metadata": {},
   "source": [
    "### Criação do modelo"
   ]
  },
  {
   "cell_type": "code",
   "execution_count": 16,
   "id": "b457dea1",
   "metadata": {},
   "outputs": [],
   "source": [
    "model = create_model(first_layer_units = hp['first_layer_units'], alpha = hp['alpha'],\n",
    "                     reg_lambda = hp['reg_lambda'], features = features, random_seed = random_state)"
   ]
  },
  {
   "cell_type": "markdown",
   "id": "6cb13976",
   "metadata": {},
   "source": [
    "### Treino e validação de nosso primeiro modelo"
   ]
  },
  {
   "cell_type": "code",
   "execution_count": 17,
   "id": "d4afa7d4",
   "metadata": {},
   "outputs": [],
   "source": [
    "val_split = 0.2"
   ]
  },
  {
   "cell_type": "code",
   "execution_count": 18,
   "id": "e9aa64e6",
   "metadata": {
    "scrolled": false
   },
   "outputs": [],
   "source": [
    "train_mse, val_mse = train_model(model, X_train_scaled, y_train_scaled, epochs = hp['epochs'], \n",
    "                                 batch_size = hp['batch_size'], random_seed = random_state,\n",
    "                                validation_split = val_split)"
   ]
  },
  {
   "cell_type": "markdown",
   "id": "e7e1f3dd",
   "metadata": {},
   "source": [
    "- Notamos um comportamento à primeira vista \"estranho\": os valores da função loss, que foi escolhida como mean_squared_error, está diferente da métrica mean_squared_error. Isso ocorre porque o cálculo de loss ocorre fazendo a média aritmética das somas dos quadrados dos erros e o cálculo da métrica ocorre fazendo a média ponderada desse valor."
   ]
  },
  {
   "cell_type": "code",
   "execution_count": 19,
   "id": "54271c48",
   "metadata": {},
   "outputs": [
    {
     "name": "stdout",
     "output_type": "stream",
     "text": [
      "0.007348962593823671 0.007368383463472128\n"
     ]
    }
   ],
   "source": [
    "print(train_mse[-1], val_mse[-1])"
   ]
  },
  {
   "cell_type": "code",
   "execution_count": 20,
   "id": "d8194479",
   "metadata": {},
   "outputs": [
    {
     "data": {
      "text/plain": [
       "0.007205646019428968"
      ]
     },
     "execution_count": 20,
     "metadata": {},
     "output_type": "execute_result"
    }
   ],
   "source": [
    "test_evaluation(model, X_test_scaled, y_test_scaled, batch_size = hp['batch_size'])[1]"
   ]
  },
  {
   "cell_type": "markdown",
   "id": "0ae9bec7",
   "metadata": {},
   "source": [
    "Parece que o modelo se saiu bem, pois os valores das métricas nos datasets de treino, validação e de teste estão muito próximas e bastante pequenas, chegando a valores próximos daqueles que obtivemos por meio do modelo de regressão linear feito from scratch. Notemos que o valor do mse dos dados de validação é consistentemente menor que dos dados de treino. Isso nos indica que o conjunto de dados é, de alguma forma, enviesado e os dados de validação escolhidos acabam sofrendo esse viés."
   ]
  },
  {
   "cell_type": "markdown",
   "id": "83fced46",
   "metadata": {},
   "source": [
    "#### Agora que encontramos valores bons para os hiperparâmetros, vamos testar  a performance do modelo para vários valores de nodes na first layer do modelo, verificando como o resultado se comporta em função da complexidade."
   ]
  },
  {
   "cell_type": "code",
   "execution_count": 21,
   "id": "c1d19f90",
   "metadata": {},
   "outputs": [],
   "source": [
    "unit_values = [2, 4, 8, 16, 32, 64, 128, 256, 512, 1024]"
   ]
  },
  {
   "cell_type": "code",
   "execution_count": 22,
   "id": "5ec0aea6",
   "metadata": {},
   "outputs": [],
   "source": [
    "train_final_mse = {}\n",
    "val_final_mse = {}\n",
    "test_final_mse = {}\n",
    "for first_layer_unit in unit_values:\n",
    "    model = create_model(first_layer_units = first_layer_unit, alpha = hp['alpha'],\n",
    "                     reg_lambda = hp['reg_lambda'], features = features, random_seed = random_state)\n",
    "    train_mse, val_mse = train_model(model, X_train_scaled, y_train_scaled, epochs = hp['epochs'], \n",
    "                                     batch_size = hp['batch_size'], random_seed = random_state)\n",
    "    train_final_mse[first_layer_unit] = train_mse[-1]\n",
    "    val_final_mse[first_layer_unit] = val_mse[-1]\n",
    "    test_eval = test_evaluation(model, X_test_scaled, y_test_scaled, batch_size = hp['batch_size'])\n",
    "    test_final_mse[first_layer_unit] = test_eval[1]"
   ]
  },
  {
   "cell_type": "code",
   "execution_count": 23,
   "id": "f66a308a",
   "metadata": {},
   "outputs": [
    {
     "name": "stdout",
     "output_type": "stream",
     "text": [
      "2:\n",
      "Train final mse: 0.2564924657344818\n",
      "Val final mse: 0.24322734773159027\n",
      "Test final mse: 0.2483702450990677\n",
      "4:\n",
      "Train final mse: 0.558296799659729\n",
      "Val final mse: 0.5074071884155273\n",
      "Test final mse: 0.5159469842910767\n",
      "8:\n",
      "Train final mse: 0.3847693204879761\n",
      "Val final mse: 0.3652527928352356\n",
      "Test final mse: 0.374387264251709\n",
      "16:\n",
      "Train final mse: 0.01832357607781887\n",
      "Val final mse: 0.020141614601016045\n",
      "Test final mse: 0.017409954220056534\n",
      "32:\n",
      "Train final mse: 0.015995092689990997\n",
      "Val final mse: 0.016387872397899628\n",
      "Test final mse: 0.015269652009010315\n",
      "64:\n",
      "Train final mse: 0.009098708629608154\n",
      "Val final mse: 0.008808066137135029\n",
      "Test final mse: 0.008850252255797386\n",
      "128:\n",
      "Train final mse: 0.0058771781623363495\n",
      "Val final mse: 0.005858529359102249\n",
      "Test final mse: 0.005955235101282597\n",
      "256:\n",
      "Train final mse: 0.005107586272060871\n",
      "Val final mse: 0.0036268450785428286\n",
      "Test final mse: 0.005348296836018562\n",
      "512:\n",
      "Train final mse: 0.007445255294442177\n",
      "Val final mse: 0.004918340127915144\n",
      "Test final mse: 0.0065658134408295155\n",
      "1024:\n",
      "Train final mse: 0.009560184553265572\n",
      "Val final mse: 0.0073132868856191635\n",
      "Test final mse: 0.009213843382894993\n"
     ]
    }
   ],
   "source": [
    "for unit in unit_values:\n",
    "    print(f'{unit}:')\n",
    "    print(f'Train final mse: {train_final_mse[unit]}')\n",
    "    print(f'Val final mse: {val_final_mse[unit]}')\n",
    "    print(f'Test final mse: {test_final_mse[unit]}')"
   ]
  },
  {
   "cell_type": "markdown",
   "id": "e53a12d9",
   "metadata": {},
   "source": [
    "Vemos, através desse experimento, fatos curiosos:\n",
    "\n",
    "- O valor do erro final do modelo tende a ser maior se temos um modelo exageradamente complexo, enquanto que modelos não tão complexo, o modelo performa relativamente bem. Isso acontece porque quando aumentamos a complexidade do modelo, ele tende a sofrer overfitting nos dados de treino, perdendo sua capacidade de generalização.\n",
    "\n",
    "- Além disso, o valor \"ótimo\" de units é data-dependent, logo, não conseguimos prever antecipadamente qual dos valores de units será o melhor - apenas sabemos que não deve ser um valor extremamente grande, dado que estamos resolvendo um problema em que a regressão linear se encaixa muito bem devido às altas correlações das features com o target.\n",
    "\n",
    "- Parece que o melhor valor foi 128, em termos de proximidades dos erros e de valores pequenos."
   ]
  },
  {
   "cell_type": "markdown",
   "id": "aa910fcd",
   "metadata": {},
   "source": [
    "#### Note que as correlações entre a variável dependente (target) e as features são de fato elevadas:"
   ]
  },
  {
   "cell_type": "code",
   "execution_count": 24,
   "id": "6a16af62",
   "metadata": {},
   "outputs": [],
   "source": [
    "def reconstruct_data(X, y):\n",
    "    data = X.assign(Chance_of_admit  = y)\n",
    "    data = data.rename(columns = {'Chance_of_admit': 'Chance of Admit'})\n",
    "    return data"
   ]
  },
  {
   "cell_type": "code",
   "execution_count": 25,
   "id": "bfb1b1de",
   "metadata": {},
   "outputs": [],
   "source": [
    "final_data = reconstruct_data(X_train, y_train)"
   ]
  },
  {
   "cell_type": "code",
   "execution_count": 26,
   "id": "a4d63d19",
   "metadata": {
    "scrolled": true
   },
   "outputs": [
    {
     "data": {
      "text/plain": [
       "Research             0.517726\n",
       "TOEFL Score          0.788699\n",
       "GRE Score            0.796729\n",
       "SOP                  0.674721\n",
       "CGPA                 0.869127\n",
       "LOR                  0.686924\n",
       "University Rating    0.713946\n",
       "Chance of Admit      1.000000\n",
       "Name: Chance of Admit, dtype: float64"
      ]
     },
     "execution_count": 26,
     "metadata": {},
     "output_type": "execute_result"
    }
   ],
   "source": [
    "final_data.corr()['Chance of Admit']"
   ]
  },
  {
   "cell_type": "markdown",
   "id": "5400e674",
   "metadata": {},
   "source": [
    "---"
   ]
  },
  {
   "cell_type": "markdown",
   "id": "bb8c9419",
   "metadata": {},
   "source": [
    "## Modelo selecionado"
   ]
  },
  {
   "cell_type": "markdown",
   "id": "11719da6",
   "metadata": {},
   "source": [
    "Para nosso modelo, escolheremos à primeira vista first_layer_units = 128, pois foi um modelo que performou bem e que mostrou poucos sinais de overfitting nos dados de treino com os hiperparâmetros selecionados."
   ]
  },
  {
   "cell_type": "code",
   "execution_count": 27,
   "id": "c79c4326",
   "metadata": {},
   "outputs": [],
   "source": [
    "hp['first_layer_units'] = 128"
   ]
  },
  {
   "cell_type": "code",
   "execution_count": 28,
   "id": "741fcba0",
   "metadata": {},
   "outputs": [
    {
     "data": {
      "text/plain": [
       "{'first_layer_units': 128,\n",
       " 'epochs': 6,\n",
       " 'batch_size': 20,\n",
       " 'alpha': 0.001,\n",
       " 'reg_lambda': 0.1}"
      ]
     },
     "execution_count": 28,
     "metadata": {},
     "output_type": "execute_result"
    }
   ],
   "source": [
    "hp"
   ]
  },
  {
   "cell_type": "code",
   "execution_count": 29,
   "id": "09eb3a30",
   "metadata": {},
   "outputs": [],
   "source": [
    "selected_model = create_model(first_layer_units = hp['first_layer_units'], alpha = hp['alpha'],\n",
    "                     reg_lambda = hp['reg_lambda'], features = features, random_seed = random_state)"
   ]
  },
  {
   "cell_type": "code",
   "execution_count": 30,
   "id": "78ba7651",
   "metadata": {},
   "outputs": [],
   "source": [
    "se_train_mse, se_val_mse = train_model(selected_model, X_train_scaled, y_train_scaled, epochs = hp['epochs'], \n",
    "                                     batch_size = hp['batch_size'], random_seed = random_state)"
   ]
  },
  {
   "cell_type": "code",
   "execution_count": 31,
   "id": "99966311",
   "metadata": {},
   "outputs": [
    {
     "name": "stdout",
     "output_type": "stream",
     "text": [
      "\n",
      "Metrics for our selected linear regression model made with NN in Tensorflow Keras API:\n",
      "\n",
      "Selected model train mse: 0.0058771781623363495\n",
      "Selected model val mse: 0.005858529359102249\n",
      "Selected model test mse: 0.005955235101282597\n"
     ]
    }
   ],
   "source": [
    "se_test_eval = test_evaluation(selected_model, X_test_scaled, y_test_scaled, batch_size = hp['batch_size'])\n",
    "print(f'\\nMetrics for our selected linear regression model made with NN in Tensorflow Keras API:\\n')\n",
    "print(f'Selected model train mse: {se_train_mse[-1]}')\n",
    "print(f'Selected model val mse: {se_val_mse[-1]}')\n",
    "print(f'Selected model test mse: {se_test_eval[1]}')"
   ]
  },
  {
   "cell_type": "markdown",
   "id": "53cbb770",
   "metadata": {},
   "source": [
    "#### Agora que temos nosso modelo, vamos analisar novamente se ele não sofre overfitting por meio de outra técnica, agora de cross-validation: K-fold."
   ]
  },
  {
   "cell_type": "code",
   "execution_count": 32,
   "id": "470f2a93",
   "metadata": {
    "scrolled": true
   },
   "outputs": [
    {
     "data": {
      "text/plain": [
       "{'first_layer_units': 128,\n",
       " 'epochs': 6,\n",
       " 'batch_size': 20,\n",
       " 'alpha': 0.001,\n",
       " 'reg_lambda': 0.1}"
      ]
     },
     "execution_count": 32,
     "metadata": {},
     "output_type": "execute_result"
    }
   ],
   "source": [
    "hp"
   ]
  },
  {
   "cell_type": "code",
   "execution_count": 33,
   "id": "0c21665b",
   "metadata": {},
   "outputs": [],
   "source": [
    "def shuffle_data(data, random_state):\n",
    "    '''Shuffles a Pandas Dataframe's data.'''\n",
    "    rand = np.random.RandomState(random_state)\n",
    "    return data.reindex(rand.permutation(data.index))"
   ]
  },
  {
   "cell_type": "code",
   "execution_count": 34,
   "id": "1fc43c3d",
   "metadata": {
    "scrolled": true
   },
   "outputs": [],
   "source": [
    "# KFold: k iterations in which (k-1) splits are for train and 1 for test.\n",
    "def kfold_cross_validation(X = None, y = None, n_splits = 5, hp = {}, shuffle = True, random_state = 0):\n",
    "    # Shuffling to avoid bias\n",
    "    if shuffle:\n",
    "        features = X.columns\n",
    "        label = y.columns\n",
    "        data = reconstruct_data(X, y)\n",
    "        data = shuffle_data(data, random_state)\n",
    "        X_shuffled = data[features]\n",
    "        y_shuffled = data[label]\n",
    "        \n",
    "    kf = KFold(n_splits = n_splits)\n",
    "    k_metrics = []\n",
    "    for train_index, test_index in kf.split(X):\n",
    "        X_train = X_shuffled.iloc[train_index].copy()\n",
    "        y_train = y_shuffled.iloc[train_index].copy()\n",
    "        X_test = X_shuffled.iloc[test_index].copy()\n",
    "        y_test = y_shuffled.iloc[test_index].copy()\n",
    "        \n",
    "        # Scaling data:\n",
    "        X_train_scaled = (X_train - X_train.min())/(X_train.max() - X_train.min())\n",
    "        X_test_scaled = (X_test - X_train.min())/(X_train.max() - X_train.min())\n",
    "        y_train_scaled = (y_train - y_train.min())/(y_train.max() - y_train.min())\n",
    "        y_test_scaled = (y_test - y_train.min())/(y_train.max() - y_train.min())\n",
    "\n",
    "        # Creating selected model:\n",
    "        model = create_model(first_layer_units = hp['first_layer_units'], alpha = hp['alpha'],\n",
    "                                        reg_lambda = hp['reg_lambda'], features = features, \n",
    "                                        random_seed = random_state)\n",
    "        train_mse = train_model(model, X_train_scaled, y_train_scaled, epochs = hp['epochs'], \n",
    "                                  batch_size = hp['batch_size'], random_seed = random_state,\n",
    "                                  validation_split = 0)\n",
    "        test_eval = test_evaluation(model, X_test_scaled, \n",
    "                                       y_test_scaled, batch_size = hp['batch_size'])\n",
    "        metrics_list = [train_mse[-1], test_eval[1]]\n",
    "        k_metrics.append(metrics_list)\n",
    "        \n",
    "    return k_metrics"
   ]
  },
  {
   "cell_type": "code",
   "execution_count": 35,
   "id": "757b8ba2",
   "metadata": {},
   "outputs": [],
   "source": [
    "n_splits = 5\n",
    "k_metrics = kfold_cross_validation(X, y, n_splits = n_splits, shuffle = True,\n",
    "                                   random_state = random_state, hp = hp)"
   ]
  },
  {
   "cell_type": "code",
   "execution_count": 36,
   "id": "4bb4ac08",
   "metadata": {},
   "outputs": [],
   "source": [
    "def print_k_metrics(k_metrics):\n",
    "    k = 0\n",
    "    test_sum = 0\n",
    "    for metrics in k_metrics:\n",
    "        test_sum += metrics[1]\n",
    "        print(f'\\nMetrics for fold {k + 1}:\\n')\n",
    "        print(f'Selected model train mse: {metrics[0]}')\n",
    "        print(f'Selected model test mse: {metrics[1]}')\n",
    "        k += 1\n",
    "    print(f'\\n**** Test Mean Score: {test_sum/len(k_metrics)} ****')"
   ]
  },
  {
   "cell_type": "code",
   "execution_count": 37,
   "id": "1425fd09",
   "metadata": {
    "scrolled": true
   },
   "outputs": [
    {
     "name": "stdout",
     "output_type": "stream",
     "text": [
      "\n",
      "Metrics for fold 1:\n",
      "\n",
      "Selected model train mse: 0.013400686904788017\n",
      "Selected model test mse: 0.01564846932888031\n",
      "\n",
      "Metrics for fold 2:\n",
      "\n",
      "Selected model train mse: 0.012959912419319153\n",
      "Selected model test mse: 0.01575181819498539\n",
      "\n",
      "Metrics for fold 3:\n",
      "\n",
      "Selected model train mse: 0.014392581768333912\n",
      "Selected model test mse: 0.012174135074019432\n",
      "\n",
      "Metrics for fold 4:\n",
      "\n",
      "Selected model train mse: 0.014185359701514244\n",
      "Selected model test mse: 0.012938646599650383\n",
      "\n",
      "Metrics for fold 5:\n",
      "\n",
      "Selected model train mse: 0.01461547426879406\n",
      "Selected model test mse: 0.011149299331009388\n",
      "\n",
      "**** Test Mean Score: 0.01353247370570898 ****\n"
     ]
    }
   ],
   "source": [
    "print_k_metrics(k_metrics)"
   ]
  },
  {
   "cell_type": "markdown",
   "id": "5f9165c1",
   "metadata": {},
   "source": [
    "#### Os resultados do KFold estão mostrando que ainda ainda há um certo grau de overfitting, já que os mse do treino estão relativamente menores nos folds 1 e 2 em relação aos do teste. Então, podemos tentar melhorar esse resultado mudando alguns parâmetros.\n",
    "\n",
    "Podemos tentar:\n",
    "\n",
    "- Reduzir alpha\n",
    "- Reduzir epochs\n",
    "- Reduzir batch_size\n",
    "- Aumentar reg_lambda"
   ]
  },
  {
   "cell_type": "code",
   "execution_count": 38,
   "id": "360aaba5",
   "metadata": {},
   "outputs": [
    {
     "data": {
      "text/plain": [
       "{'first_layer_units': 128,\n",
       " 'epochs': 6,\n",
       " 'batch_size': 20,\n",
       " 'alpha': 0.001,\n",
       " 'reg_lambda': 0.1}"
      ]
     },
     "execution_count": 38,
     "metadata": {},
     "output_type": "execute_result"
    }
   ],
   "source": [
    "hp"
   ]
  },
  {
   "cell_type": "code",
   "execution_count": 39,
   "id": "3367c58a",
   "metadata": {},
   "outputs": [],
   "source": [
    "hp['reg_lambda'] = 0.16\n",
    "hp['batch_size'] = 15\n",
    "hp['alpha'] = 0.001/2\n",
    "hp['epochs'] = 5"
   ]
  },
  {
   "cell_type": "code",
   "execution_count": 40,
   "id": "be32de5e",
   "metadata": {},
   "outputs": [],
   "source": [
    "k_metrics = kfold_cross_validation(X, y, n_splits = n_splits, shuffle = True,\n",
    "                                   random_state = random_state, hp = hp)"
   ]
  },
  {
   "cell_type": "code",
   "execution_count": 41,
   "id": "83d7c917",
   "metadata": {
    "scrolled": true
   },
   "outputs": [
    {
     "name": "stdout",
     "output_type": "stream",
     "text": [
      "\n",
      "Metrics for fold 1:\n",
      "\n",
      "Selected model train mse: 0.014121418818831444\n",
      "Selected model test mse: 0.01653268001973629\n",
      "\n",
      "Metrics for fold 2:\n",
      "\n",
      "Selected model train mse: 0.013333490118384361\n",
      "Selected model test mse: 0.016304535791277885\n",
      "\n",
      "Metrics for fold 3:\n",
      "\n",
      "Selected model train mse: 0.014951257035136223\n",
      "Selected model test mse: 0.01285681314766407\n",
      "\n",
      "Metrics for fold 4:\n",
      "\n",
      "Selected model train mse: 0.014815826900303364\n",
      "Selected model test mse: 0.013398071750998497\n",
      "\n",
      "Metrics for fold 5:\n",
      "\n",
      "Selected model train mse: 0.015173795633018017\n",
      "Selected model test mse: 0.012230112217366695\n",
      "\n",
      "**** Test Mean Score: 0.014264442585408687 ****\n"
     ]
    }
   ],
   "source": [
    "print_k_metrics(k_metrics)"
   ]
  },
  {
   "cell_type": "code",
   "execution_count": 42,
   "id": "285a7cae",
   "metadata": {},
   "outputs": [
    {
     "data": {
      "text/plain": [
       "{'first_layer_units': 128,\n",
       " 'epochs': 5,\n",
       " 'batch_size': 15,\n",
       " 'alpha': 0.0005,\n",
       " 'reg_lambda': 0.16}"
      ]
     },
     "execution_count": 42,
     "metadata": {},
     "output_type": "execute_result"
    }
   ],
   "source": [
    "hp"
   ]
  },
  {
   "cell_type": "markdown",
   "id": "90473ed5",
   "metadata": {},
   "source": [
    "Apesar de tentarmos várias vezes mudar os hiperparâmetros, para o fold 2 não conseguimos aproximar o test mse do train mse. Além disso, há comportamentos anormais em todos os outros folds: os valores do train mse são maiores que do test mse. Isso indica que há viés nos dados, especialmente nesses folds. Uma maneira de tentarmos contornar esse \"problema\" seria aumentar o número de camadas do modelo ou o número de nodes por camada. Podemos também adicionar uma camada de dropout para evitar overfitting com o aumento de complexidade."
   ]
  },
  {
   "cell_type": "code",
   "execution_count": 43,
   "id": "ba26d1da",
   "metadata": {},
   "outputs": [],
   "source": [
    "def create_model(first_layer_units = 32, alpha = 0.1, reg_lambda = 0.1, dropout_rate = 0, features = [], random_seed = 0):\n",
    "    '''Creates a defined model with learning rate = alpha.'''\n",
    "    # Defining Tensorflow's random seed to generate reproducible results.\n",
    "    tf.keras.utils.set_random_seed(random_seed)\n",
    "    tf.config.experimental.enable_op_determinism()\n",
    "    \n",
    "    # We will be using Tensorflow's Sequencial API to build our model.\n",
    "    model = tf.keras.models.Sequential()\n",
    "    \n",
    "    # Adding first layer with input_dim = number of features and relu activation function \n",
    "    # to learn some non-linearities. We will also add L2 regularization in layer's kernel (weights).\n",
    "    model.add(tf.keras.layers.Dense(units = first_layer_units, input_shape = (len(features), ), \n",
    "                                   kernel_regularizer = tf.keras.regularizers.L2(l2 = reg_lambda),\n",
    "                                   activation = 'relu'))\n",
    "    \n",
    "    # Dropout layer\n",
    "    \n",
    "    model.add(tf.keras.layers.Dropout(rate = dropout_rate, seed = random_seed))\n",
    "    \n",
    "    model.add(tf.keras.layers.Dense(units = first_layer_units, input_shape = (len(features), ), \n",
    "                                    kernel_regularizer = tf.keras.regularizers.L2(l2 = reg_lambda)))\n",
    "    \n",
    "    # Adding output layer with linear activation (linear regression output).\n",
    "    \n",
    "    model.add(tf.keras.layers.Dense(units = 1, activation = 'linear'))\n",
    "    \n",
    "    # Compiling model: selecting optimizer, loss and metrics.\n",
    "    \n",
    "    model.compile(optimizer = tf.keras.optimizers.RMSprop(learning_rate = alpha),\n",
    "                 loss = 'mean_squared_error',\n",
    "                 metrics = tf.keras.metrics.MeanSquaredError())\n",
    "    \n",
    "    return model"
   ]
  },
  {
   "cell_type": "code",
   "execution_count": 44,
   "id": "1d8eb4e6",
   "metadata": {},
   "outputs": [],
   "source": [
    "# KFold: k iterations in which (k-1) splits are for train and 1 for test.\n",
    "def kfold_cross_validation(X = None, y = None, n_splits = 5, hp = {}, shuffle = True, random_state = 0):\n",
    "    # Shuffling to avoid bias\n",
    "    if shuffle:\n",
    "        features = X.columns\n",
    "        label = y.columns\n",
    "        data = reconstruct_data(X, y)\n",
    "        data = shuffle_data(data, random_state)\n",
    "        X_shuffled = data[features]\n",
    "        y_shuffled = data[label]\n",
    "        \n",
    "    kf = KFold(n_splits = n_splits)\n",
    "    k_metrics = []\n",
    "    for train_index, test_index in kf.split(X):\n",
    "        X_train = X_shuffled.iloc[train_index].copy()\n",
    "        y_train = y_shuffled.iloc[train_index].copy()\n",
    "        X_test = X_shuffled.iloc[test_index].copy()\n",
    "        y_test = y_shuffled.iloc[test_index].copy()\n",
    "        \n",
    "        # Scaling data:\n",
    "        X_train_scaled = (X_train - X_train.min())/(X_train.max() - X_train.min())\n",
    "        X_test_scaled = (X_test - X_train.min())/(X_train.max() - X_train.min())\n",
    "        y_train_scaled = (y_train - y_train.min())/(y_train.max() - y_train.min())\n",
    "        y_test_scaled = (y_test - y_train.min())/(y_train.max() - y_train.min())\n",
    "\n",
    "        # Creating selected model:\n",
    "        model = create_model(first_layer_units = hp['first_layer_units'], alpha = hp['alpha'],\n",
    "                                        reg_lambda = hp['reg_lambda'], features = features, \n",
    "                                        random_seed = random_state, dropout_rate = hp['dropout_rate'])\n",
    "        train_mse = train_model(model, X_train_scaled, y_train_scaled, epochs = hp['epochs'], \n",
    "                                  batch_size = hp['batch_size'], random_seed = random_state,\n",
    "                                  validation_split = 0)\n",
    "        test_eval = test_evaluation(model, X_test_scaled, \n",
    "                                       y_test_scaled, batch_size = hp['batch_size'])\n",
    "        metrics_list = [train_mse[-1], test_eval[1]]\n",
    "        k_metrics.append(metrics_list)\n",
    "        \n",
    "    return k_metrics"
   ]
  },
  {
   "cell_type": "code",
   "execution_count": 45,
   "id": "b624d910",
   "metadata": {},
   "outputs": [],
   "source": [
    "hp['reg_lambda'] = 0.16\n",
    "hp['batch_size'] = 15\n",
    "hp['alpha'] = 0.001/2\n",
    "hp['epochs'] = 5\n",
    "hp['dropout_rate'] = 0.1"
   ]
  },
  {
   "cell_type": "code",
   "execution_count": 46,
   "id": "71250185",
   "metadata": {},
   "outputs": [
    {
     "data": {
      "text/plain": [
       "{'first_layer_units': 128,\n",
       " 'epochs': 5,\n",
       " 'batch_size': 15,\n",
       " 'alpha': 0.0005,\n",
       " 'reg_lambda': 0.16,\n",
       " 'dropout_rate': 0.1}"
      ]
     },
     "execution_count": 46,
     "metadata": {},
     "output_type": "execute_result"
    }
   ],
   "source": [
    "hp"
   ]
  },
  {
   "cell_type": "code",
   "execution_count": 47,
   "id": "465c2bf3",
   "metadata": {},
   "outputs": [],
   "source": [
    "k_metrics = kfold_cross_validation(X, y, n_splits = n_splits, shuffle = True,\n",
    "                                   random_state = random_state, hp = hp)"
   ]
  },
  {
   "cell_type": "code",
   "execution_count": 48,
   "id": "b9f786f9",
   "metadata": {},
   "outputs": [
    {
     "name": "stdout",
     "output_type": "stream",
     "text": [
      "\n",
      "Metrics for fold 1:\n",
      "\n",
      "Selected model train mse: 0.022661667317152023\n",
      "Selected model test mse: 0.026568125933408737\n",
      "\n",
      "Metrics for fold 2:\n",
      "\n",
      "Selected model train mse: 0.020019348710775375\n",
      "Selected model test mse: 0.02103930525481701\n",
      "\n",
      "Metrics for fold 3:\n",
      "\n",
      "Selected model train mse: 0.021821102127432823\n",
      "Selected model test mse: 0.018924131989479065\n",
      "\n",
      "Metrics for fold 4:\n",
      "\n",
      "Selected model train mse: 0.021930431947112083\n",
      "Selected model test mse: 0.021392809227108955\n",
      "\n",
      "Metrics for fold 5:\n",
      "\n",
      "Selected model train mse: 0.02270420454442501\n",
      "Selected model test mse: 0.018093068152666092\n",
      "\n",
      "**** Test Mean Score: 0.02120348811149597 ****\n"
     ]
    }
   ],
   "source": [
    "print_k_metrics(k_metrics)"
   ]
  },
  {
   "cell_type": "markdown",
   "id": "d6f01288",
   "metadata": {},
   "source": [
    "- Note que adicionar novas camadas ao modelo, mesmo que ajustemos alguns parâmetros, aumentou o erro obtido e ainda não auxiliou na diminuição da diferença entre os mse de treino e de teste de forma tão satisfatória, pois o fold 1 ficou agora com uma grande diferença. Isso indica mais ainda que, em determinados folds, há, de fato, dados enviesados, mesmo que tenhamos embaralhado anteriormente o dataset. \n",
    "\n",
    "- O ideal nesse caso era termos mais dados para conseguirmos, com sorte, um modelo melhor. Em geral, o KFold não é uma boa forma de cross-validation para quando temos poucos dados.\n",
    "\n",
    "- Nesse dataset em específico, aparentemente o modelo mais simples performou melhor, apesar dos comportamentos incomuns quanto aos erros."
   ]
  },
  {
   "cell_type": "markdown",
   "id": "f0c52874",
   "metadata": {},
   "source": [
    "---"
   ]
  },
  {
   "cell_type": "markdown",
   "id": "51284b35",
   "metadata": {},
   "source": [
    "## Análise final "
   ]
  },
  {
   "cell_type": "markdown",
   "id": "62c020bf",
   "metadata": {},
   "source": [
    "A última pergunta que fica é: se nenhum dos modelos mais complexos performou melhor, será que o modelo mais simples de regressão linear é suficiente para gerar um bom resultado? Vamos testar."
   ]
  },
  {
   "cell_type": "code",
   "execution_count": 49,
   "id": "408bf59c",
   "metadata": {},
   "outputs": [],
   "source": [
    "def create_simple_model(alpha = 0.1, features = [], random_seed = 0):\n",
    "    '''Creates the simplest linear regression model.'''\n",
    "    tf.keras.utils.set_random_seed(random_seed)\n",
    "    tf.config.experimental.enable_op_determinism()\n",
    "    \n",
    "    model = tf.keras.models.Sequential()\n",
    "    \n",
    "    model.add(tf.keras.layers.Dense(units = 1, input_dim = len(features)))\n",
    "    \n",
    "    model.compile(optimizer = tf.keras.optimizers.RMSprop(learning_rate = alpha),\n",
    "                 loss = 'mean_squared_error',\n",
    "                 metrics = tf.keras.metrics.MeanSquaredError())\n",
    "    return model"
   ]
  },
  {
   "cell_type": "code",
   "execution_count": 50,
   "id": "f8344ae9",
   "metadata": {},
   "outputs": [],
   "source": [
    "def kfold_cv_simple_model(X = None, y = None, n_splits = 5, hp = {}, shuffle = True, random_state = 0):\n",
    "    # Shuffling to avoid bias\n",
    "    if shuffle:\n",
    "        features = X.columns\n",
    "        label = y.columns\n",
    "        data = reconstruct_data(X, y)\n",
    "        data = shuffle_data(data, random_state)\n",
    "        X_shuffled = data[features]\n",
    "        y_shuffled = data[label]\n",
    "        \n",
    "    kf = KFold(n_splits = n_splits)\n",
    "    k_metrics = []\n",
    "    for train_index, test_index in kf.split(X):\n",
    "        X_train = X_shuffled.iloc[train_index].copy()\n",
    "        y_train = y_shuffled.iloc[train_index].copy()\n",
    "        X_test = X_shuffled.iloc[test_index].copy()\n",
    "        y_test = y_shuffled.iloc[test_index].copy()\n",
    "        \n",
    "        # Scaling data:\n",
    "        X_train_scaled = (X_train - X_train.min())/(X_train.max() - X_train.min())\n",
    "        X_test_scaled = (X_test - X_train.min())/(X_train.max() - X_train.min())\n",
    "        y_train_scaled = (y_train - y_train.min())/(y_train.max() - y_train.min())\n",
    "        y_test_scaled = (y_test - y_train.min())/(y_train.max() - y_train.min())\n",
    "\n",
    "        model = create_simple_model(alpha = hp['alpha'], features = features, \n",
    "                                    random_seed = random_state)\n",
    "        train_mse = train_model(model, X_train_scaled, y_train_scaled, epochs = hp['epochs'], \n",
    "                                batch_size = hp['batch_size'], random_seed = random_state,\n",
    "                                validation_split = 0)\n",
    "        test_eval = test_evaluation(model, X_test_scaled, y_test_scaled, \n",
    "                                    batch_size = hp['batch_size'])\n",
    "        metrics_list = [train_mse[-1], test_eval[1]]\n",
    "        k_metrics.append(metrics_list)\n",
    "        \n",
    "    return k_metrics"
   ]
  },
  {
   "cell_type": "code",
   "execution_count": 51,
   "id": "b758ce85",
   "metadata": {},
   "outputs": [],
   "source": [
    "hp['first_layer_units'] = 0\n",
    "hp['epochs'] = 100\n",
    "hp['batch_size'] = 5\n",
    "hp['alpha'] = 0.002\n",
    "hp['reg_lambda'] = 0\n",
    "hp['dropout_rate'] = 0"
   ]
  },
  {
   "cell_type": "code",
   "execution_count": 52,
   "id": "a4affd05",
   "metadata": {},
   "outputs": [],
   "source": [
    "simple_model_k_metrics = kfold_cv_simple_model(X, y, n_splits = n_splits, \n",
    "                                               hp = hp, shuffle = True, random_state = random_state)"
   ]
  },
  {
   "cell_type": "code",
   "execution_count": 53,
   "id": "78c9388e",
   "metadata": {},
   "outputs": [
    {
     "name": "stdout",
     "output_type": "stream",
     "text": [
      "\n",
      "Metrics for fold 1:\n",
      "\n",
      "Selected model train mse: 0.010212876833975315\n",
      "Selected model test mse: 0.010669284500181675\n",
      "\n",
      "Metrics for fold 2:\n",
      "\n",
      "Selected model train mse: 0.010046323761343956\n",
      "Selected model test mse: 0.01148713193833828\n",
      "\n",
      "Metrics for fold 3:\n",
      "\n",
      "Selected model train mse: 0.010155349969863892\n",
      "Selected model test mse: 0.011282575316727161\n",
      "\n",
      "Metrics for fold 4:\n",
      "\n",
      "Selected model train mse: 0.010254750959575176\n",
      "Selected model test mse: 0.010550458915531635\n",
      "\n",
      "Metrics for fold 5:\n",
      "\n",
      "Selected model train mse: 0.010672103613615036\n",
      "Selected model test mse: 0.008875768631696701\n",
      "\n",
      "**** Test Mean Score: 0.01057304386049509 ****\n"
     ]
    }
   ],
   "source": [
    "print_k_metrics(simple_model_k_metrics)"
   ]
  },
  {
   "cell_type": "markdown",
   "id": "cd179b0f",
   "metadata": {},
   "source": [
    "A resposta é sim, conseguimos um resultado satisfatório para o problema e inclusive melhor que todos os outros modelos!"
   ]
  },
  {
   "cell_type": "markdown",
   "id": "b898a8ad",
   "metadata": {},
   "source": [
    "Um modelo mais simples de regressão linear conseguiu um fit melhor nesse caso. Podemos supor dois motivos:\n",
    "\n",
    "- A alta correlação das features com o target fazem com que o modelo linear se adapte muito bem aos dados.\n",
    "\n",
    "- A chance de overfitting aumenta quanto mais aumentamos a complexidade do modelo, gerando, assim, resultados piores nos dados de treino. Além disso, torna-se mais difícil de tunar os hiperparâmetros do modelo quando ele é muito complexo."
   ]
  },
  {
   "cell_type": "markdown",
   "id": "3f952705",
   "metadata": {},
   "source": [
    "Para mostrarmos que nosso modelo funciona, também podemos testar o modelo de validação train-validation-test:"
   ]
  },
  {
   "cell_type": "code",
   "execution_count": 54,
   "id": "6108a212",
   "metadata": {},
   "outputs": [],
   "source": [
    "simple_model = create_simple_model(alpha = hp['alpha'], features = features, \n",
    "                                    random_seed = random_state)"
   ]
  },
  {
   "cell_type": "code",
   "execution_count": 55,
   "id": "c5d3b8e6",
   "metadata": {},
   "outputs": [],
   "source": [
    "train_mse, val_mse = train_model(simple_model, X_train_scaled, y_train_scaled, epochs = 100, validation_split = 0.2)"
   ]
  },
  {
   "cell_type": "code",
   "execution_count": 56,
   "id": "1e4236ba",
   "metadata": {},
   "outputs": [
    {
     "name": "stdout",
     "output_type": "stream",
     "text": [
      "0.004221067763864994 0.003523080376908183\n"
     ]
    }
   ],
   "source": [
    "print(train_mse[-1], val_mse[-1])"
   ]
  },
  {
   "cell_type": "code",
   "execution_count": 57,
   "id": "968cfe78",
   "metadata": {},
   "outputs": [
    {
     "data": {
      "text/plain": [
       "0.004270360805094242"
      ]
     },
     "execution_count": 57,
     "metadata": {},
     "output_type": "execute_result"
    }
   ],
   "source": [
    "test_evaluation(simple_model, X_test_scaled, y_test_scaled, batch_size = hp['batch_size'])[1]"
   ]
  },
  {
   "cell_type": "markdown",
   "id": "669cb236",
   "metadata": {},
   "source": [
    "Sim! O modelo performou muito bem nos dados de treino, estando longe do overfitting e apresentando um erro bem menor que nosso primeiro modelo (note que poderíamos diminuir o erro do primeiro modelo se aumentássemos o número de epochs, mas mesmo assim é difícil diminuir o erro tanto quanto conseguimos com o modelo mais simples). O erro menor nos dados de validação se deve a uma certa coincidência devido à distribuição dos dados."
   ]
  },
  {
   "cell_type": "markdown",
   "id": "2018b6b2",
   "metadata": {},
   "source": [
    "Para terminar, vamos plotar em um gráfico os erros do treino e do teste nesse caso. Para isso, temos que adaptar as funções train_model para nos retornar as epochs:"
   ]
  },
  {
   "cell_type": "code",
   "execution_count": 58,
   "id": "9b50612a",
   "metadata": {},
   "outputs": [],
   "source": [
    "def train_model_with_epochs(model = None, X_train = None, y_train = None, epochs = 10,\n",
    "               batch_size = 10, validation_split = 0.3,\n",
    "               random_seed = 0):\n",
    "    tf.keras.utils.set_random_seed(random_seed)\n",
    "    tf.config.experimental.enable_op_determinism()\n",
    "    history = model.fit(x = X_train, y = y_train, batch_size = batch_size,\n",
    "         epochs = epochs, shuffle = False, \n",
    "         validation_split = validation_split, verbose = 0)\n",
    "    \n",
    "    hist = pd.DataFrame(history.history)\n",
    "    train_mse = np.array(hist['mean_squared_error'])\n",
    "    epochs = np.array(hist.index) + 1\n",
    "    if validation_split != 0:\n",
    "        val_mse = np.array(hist['val_mean_squared_error'])\n",
    "        return train_mse, val_mse, epochs # adding epochs\n",
    "    return train_mse, epochs # adding epochs"
   ]
  },
  {
   "cell_type": "code",
   "execution_count": 59,
   "id": "d037bc73",
   "metadata": {},
   "outputs": [],
   "source": [
    "simple_model = create_simple_model(alpha = hp['alpha'], features = features, \n",
    "                                    random_seed = random_state)"
   ]
  },
  {
   "cell_type": "code",
   "execution_count": 60,
   "id": "564e5879",
   "metadata": {},
   "outputs": [],
   "source": [
    "train_mse, val_mse, epochs = train_model_with_epochs(simple_model, X_train_scaled, y_train_scaled, \n",
    "                                     epochs = hp['epochs'], validation_split = 0.2)"
   ]
  },
  {
   "cell_type": "code",
   "execution_count": 61,
   "id": "fd2a2df7",
   "metadata": {},
   "outputs": [],
   "source": [
    "def plot_simple_model_errors(X_test, y_test, hp, random_state):\n",
    "    features = X_test.columns\n",
    "    simple_model = create_simple_model(alpha = hp['alpha'], features = features, \n",
    "                                    random_seed = random_state)\n",
    "    train_mse, val_mse, epochs = train_model_with_epochs(simple_model, X_train_scaled, y_train_scaled, \n",
    "                                     epochs = hp['epochs'], validation_split = 0.2)\n",
    "    test_eval = test_evaluation(simple_model, X_test, y_test, batch_size = hp['batch_size'])\n",
    "    test_mse = [test_eval for i in epochs]\n",
    "    plt.plot(epochs, train_mse, color = 'blue')\n",
    "    plt.plot(epochs, val_mse, color = 'green')\n",
    "    plt.plot(epochs, test_mse, color = 'red', linestyle = '--')\n",
    "    plt.title('Simple Model Errors')\n",
    "    plt.xlabel('epoch')\n",
    "    plt.ylabel('mse')\n",
    "    plt.legend(['Train MSE', 'Validation MSE', 'Final Test MSE Line'])"
   ]
  },
  {
   "cell_type": "code",
   "execution_count": 62,
   "id": "5e1494ab",
   "metadata": {
    "scrolled": true
   },
   "outputs": [
    {
     "data": {
      "image/png": "[encoded data removed]",
      "text/plain": [
       "<Figure size 640x480 with 1 Axes>"
      ]
     },
     "metadata": {},
     "output_type": "display_data"
    }
   ],
   "source": [
    "plot_simple_model_errors(X_test_scaled, y_test_scaled, hp, random_state)"
   ]
  }
 ],
 "metadata": {
  "kernelspec": {
   "display_name": "Python 3 (ipykernel)",
   "language": "python",
   "name": "python3"
  },
  "language_info": {
   "codemirror_mode": {
    "name": "ipython",
    "version": 3
   },
   "file_extension": ".py",
   "mimetype": "text/x-python",
   "name": "python",
   "nbconvert_exporter": "python",
   "pygments_lexer": "ipython3",
   "version": "3.9.13"
  }
 },
 "nbformat": 4,
 "nbformat_minor": 5
}
