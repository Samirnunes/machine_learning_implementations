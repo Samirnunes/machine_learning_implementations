{
 "cells": [
  {
   "cell_type": "markdown",
   "id": "fdc52344",
   "metadata": {},
   "source": [
    "# Implementação do Modelo de Regressão Linear com Regularização Ridge (L2)"
   ]
  },
  {
   "cell_type": "markdown",
   "id": "7a0930eb",
   "metadata": {},
   "source": [
    "## Importando as bibliotecas"
   ]
  },
  {
   "cell_type": "code",
   "execution_count": 36,
   "id": "b6272481",
   "metadata": {},
   "outputs": [],
   "source": [
    "import pandas as pd\n",
    "import numpy as np\n",
    "import matplotlib.pyplot as plt"
   ]
  },
  {
   "cell_type": "markdown",
   "id": "d610622f",
   "metadata": {},
   "source": [
    "---"
   ]
  },
  {
   "cell_type": "markdown",
   "id": "72c55414",
   "metadata": {},
   "source": [
    "## Importando o conjunto de dados"
   ]
  },
  {
   "cell_type": "code",
   "execution_count": 37,
   "id": "bee9c893",
   "metadata": {},
   "outputs": [],
   "source": [
    "data = pd.read_csv('adm_data.csv')\n",
    "data.rename(columns = {'Chance of Admit ': 'Chance of Admit'}, inplace = True)\n",
    "data.rename(columns = {'LOR ': 'LOR'}, inplace = True)"
   ]
  },
  {
   "cell_type": "code",
   "execution_count": 38,
   "id": "b7544dc2",
   "metadata": {},
   "outputs": [],
   "source": [
    "features = ['GRE Score', 'TOEFL Score', 'University Rating', 'SOP', 'LOR', 'CGPA', 'Research']\n",
    "label = 'Chance of Admit'"
   ]
  },
  {
   "cell_type": "markdown",
   "id": "2d51ec89",
   "metadata": {},
   "source": [
    "---"
   ]
  },
  {
   "cell_type": "markdown",
   "id": "6dee6bd6",
   "metadata": {},
   "source": [
    "## Modelo com Regularização para Complexidade: Regularização Ridge ou L2\n",
    "\n",
    "Iremos modificar o modelo implementado anteriormente e adicionar o termo de complexidade à função de custo, definindo-o pela fórmula de regularização $L_{2}$ ($L_{2}$ Regularization formula). Tal termo é dado por:\n",
    "\n",
    "$L_{2}$ regularization term = $ \\sum_{i = 1}^{m} w_{i}^{2}$\n",
    "\n",
    "Definimos $\\lambda$ como o coeficiente de regularização, um hiperparâmetro do modelo que multiplica a função de complexidade. Quanto maior $\\lambda$, maior o efeito de regularização na complexidade, isto é, mais penalizados os pesos muito grandes nas features são. Dessa forma, a nova função que se quer minimizar no modelo é dada por:\n",
    "\n",
    "$f(\\theta)$ = Loss + $\\lambda$ Complexity = $\\frac{1}{n} \\sum_{i = 1}^{n} (\\hat{y}_{i} - y_{i})^{2} + \\lambda \\sum_{i = 1}^{m} w_{i}^{2}$\n",
    "\n",
    "cujas derivadas parciais são dadas por:\n",
    "\n",
    "$\\frac{\\partial f}{\\partial w_{k}} = \\frac{2}{n}\\sum_{i = 1}^{n} (\\hat{y}_{i} - y_{i}) \\cdot (x_{k})_{i} + 2\\lambda w_{k}$, para toda feature $x_{k}$ com peso $w_{k}$.\n",
    "\n",
    "$\\frac{\\partial f}{\\partial b} = \\frac{2}{n}\\sum_{i = 1}^{n} (\\hat{y}_{i} - y_{i})$\n",
    "\n",
    "Assim, obtemos os novos valores do peso e do viés após uma iteração:\n",
    "\n",
    "$w_{k}' = (1 - 2 \\alpha \\lambda)\\;w_{k} - \\frac{2 \\alpha}{n}\\sum_{i = 1}^{n} (\\hat{y}_{i} - y_{i}) \\cdot (x_{k})_{i}$, para toda feature $x_{k}$ com peso $w_{k}$.\n",
    "\n",
    "\n",
    "$b' = b - \\frac{2 \\alpha}{n}\\sum_{i = 1}^{n} (\\hat{y}_{i} - y_{i})$"
   ]
  },
  {
   "cell_type": "markdown",
   "id": "7aa0f2eb",
   "metadata": {},
   "source": [
    "---"
   ]
  },
  {
   "cell_type": "markdown",
   "id": "a9a0082c",
   "metadata": {},
   "source": [
    "## Implementação"
   ]
  },
  {
   "cell_type": "code",
   "execution_count": 39,
   "id": "a2565997",
   "metadata": {},
   "outputs": [],
   "source": [
    "class RegularizationLinearRegressionModel:\n",
    "    def __init__(self, features, label, ws: list,\n",
    "                 b = 0, alpha = 0.1, lambda_reg = 0.1, random_state = 0):\n",
    "        '''Constructor for the RegularizationLinearRegressionModel class. It takes in eight arguments:\n",
    "\n",
    "        - features: a Pandas DataFrame containing the features to be used for training the model;\n",
    "        - label: a Pandas Series containing the label corresponding to the features that will be predicted using the model;\n",
    "        - ws: a list of floats representing the initial values of the weights (coefficients) of the features;\n",
    "        - b: a float representing the initial value of the bias term (default value is 0);\n",
    "        - alpha: a float representing the learning rate (i.e., the size of the step taken in the direction of the gradient during gradient descent) (default value is 0.1);\n",
    "        - lambda_reg: a float representing the regularization strength (default value is 0.1);\n",
    "        - random_state: an integer representing the random seed to use for generating random numbers (default value is 0).'''\n",
    "        self.features = features\n",
    "        self.label = label\n",
    "        ws = [float(w) for w in ws]\n",
    "        self.ws = np.array(ws) # weights\n",
    "        self.b = b\n",
    "        self.alpha = alpha\n",
    "        self.lambda_reg = lambda_reg\n",
    "        self.rand = np.random.RandomState(random_state)\n",
    "        \n",
    "    def print_parameters(self):\n",
    "        '''Prints the current values of the weights ws and bias b of the model.'''\n",
    "        for i in range(1, len(self.ws) + 1):\n",
    "            print(f'w{i} = {self.ws[i - 1]}')\n",
    "        print (f'b = {self.b}')\n",
    "        \n",
    "    def get_parameters(self):\n",
    "        '''Returns a dictionary containing the current values of the weights ws and bias b of the model. \n",
    "        The keys of the dictionary are strings 'w1', 'w2', etc. corresponding to the weights, and 'b' corresponding to the bias.'''\n",
    "        i_vals = list(range(1, len(self.ws) + 1))\n",
    "        parameters = {f'w{i}': self.ws[i - 1] for i in i_vals}\n",
    "        parameters['b'] = self.b\n",
    "        return parameters\n",
    "    \n",
    "    def predict(self, X):\n",
    "        '''Takes in a Pandas DataFrame X containing feature values \n",
    "        and returns a NumPy array of predicted values of the label using \n",
    "        the current values of ws and b.'''\n",
    "        predictions = np.array(X.mul(self.ws).sum(axis = 1) + self.b)\n",
    "        return predictions\n",
    "    \n",
    "    def get_loss(self, X, y):\n",
    "        '''Takes in a Pandas DataFrame X containing feature values \n",
    "        and a Pandas Series y containing the corresponding true label values, \n",
    "        and returns the mean squared error loss of the model on the data.'''\n",
    "        predictions = self.predict(X)\n",
    "        diff = predictions - y\n",
    "        loss = np.mean(diff**2)\n",
    "        return loss\n",
    "    \n",
    "    def __get_Xy_sample(self, begin_index, end_index):\n",
    "        '''Private helper function which from X and y starting in the begin_index \n",
    "        row and ending in end_index row.'''\n",
    "        X = self.features.iloc[begin_index:end_index]\n",
    "        y = self.label.iloc[begin_index:end_index]\n",
    "        return X, y\n",
    "    \n",
    "    def __get_sample_partial_w(self, X, diff, batch_size):\n",
    "        '''Private helper function which gets the partial derivative of loss \n",
    "        and regularization term with respect to weights for a sample (X).'''\n",
    "        partial_w = (2/batch_size) * (diff @ X) + 2*self.lambda_reg*self.ws\n",
    "        return partial_w\n",
    "    \n",
    "    def __get_sample_partial_b(self, diff, batch_size):\n",
    "        partial_b = (2/batch_size) * np.sum(diff)\n",
    "        return partial_b\n",
    "    \n",
    "    def __batch_update_parameters(self, X, diff, batch_size, inexact_batch_size):\n",
    "        '''Private helper function which updates weights (ws) and bias (b) for a batch.'''\n",
    "        partial_w = self.__get_sample_partial_w(X, diff, inexact_batch_size)\n",
    "        partial_b = self.__get_sample_partial_b(diff, inexact_batch_size)\n",
    "        correction_constant = batch_size/inexact_batch_size\n",
    "        self.ws -= self.alpha * partial_w * correction_constant\n",
    "        self.b -= self.alpha * partial_b * correction_constant\n",
    "    \n",
    "    def get_complexity(self):\n",
    "        '''Returns the complexity of the model, \n",
    "        which is defined as the sum of the squares of the weights ws.'''\n",
    "        return np.dot(self.ws, self.ws)\n",
    "    \n",
    "    def get_structural_risk(self, X, y):\n",
    "        '''Takes in a Pandas DataFrame X_test containing feature values \n",
    "        and a Pandas Series y_test containing the corresponding true label values,\n",
    "        and returns the structural risk of the model on the test data. \n",
    "        The structural risk is defined as the sum of the mean squared error loss \n",
    "        and the complexity of the model, multiplied by the regularization strength lambda_reg.'''\n",
    "        return self.get_loss(X, y) + self.lambda_reg * self.get_complexity()\n",
    "    \n",
    "    def __sgd_update_parameters(self, batch_size: int):\n",
    "        '''Private helper function that performs one step of stochastic gradient descent on the model's parameters (ws and b). \n",
    "        It takes in a single argument batch_size, which is the number of samples to use in the mini-batch for this step of gradient descent. \n",
    "        The function first selects mini-batches from the training data, and then performs an update to the model's parameters \n",
    "        using the gradient of the mean squared error loss with respect to the parameters for each mini-batch.\n",
    "        The update is performed using the learning rate alpha.'''\n",
    "        num_of_data_rows = len(self.label)\n",
    "        inexact_batch_size = num_of_data_rows % batch_size\n",
    "        num_of_exact_batches = int(num_of_data_rows/batch_size)\n",
    "        for exact_batch in range(1, num_of_exact_batches + 1):\n",
    "            begin_index = (exact_batch - 1) * batch_size\n",
    "            end_index = exact_batch * batch_size\n",
    "            X, y = self.__get_Xy_sample(begin_index, end_index)\n",
    "            predictions = self.predict(X)\n",
    "            diff = predictions - y\n",
    "            self.__batch_update_parameters(X, diff, batch_size, batch_size)\n",
    "        if inexact_batch_size != 0:\n",
    "            begin_index = (num_of_exact_batches) * batch_size + 1\n",
    "            end_index = num_of_data_rows + 1\n",
    "            X, y = self.__get_Xy_sample(begin_index, end_index)\n",
    "            predictions = self.predict(X)\n",
    "            diff = predictions - y\n",
    "            self.__batch_update_parameters(X, diff, batch_size, inexact_batch_size)\n",
    "        \n",
    "    def sgd(self, iterations: int, batch_size: float, print_loss = False): # stochastic gradient descent\n",
    "        '''Performs stochastic gradient descent for a specified number of iterations. It takes in three arguments:\n",
    "\n",
    "        - iterations: an integer representing the number of iterations of gradient descent to perform\n",
    "        - batch_size: a float representing the number of samples to use in each mini-batch for each step of gradient descent\n",
    "        - print_loss: a boolean indicating whether to print the loss after each iteration of gradient descent. \n",
    "        If True, the loss will be printed; if False, the loss will not be printed (default value is False).'''\n",
    "        for i in range(0, iterations):\n",
    "            self.__sgd_update_parameters(batch_size)\n",
    "            if print_loss:\n",
    "                print(f'loss = {self.get_loss(self.features, self.label)}')\n",
    "    \n",
    "    @staticmethod\n",
    "    def shuffle_data(data, random_state):\n",
    "        '''Shuffles a Pandas Dataframe's data.'''\n",
    "        rand = np.random.RandomState(random_state)\n",
    "        return data.reindex(rand.permutation(data.index))\n",
    "    \n",
    "    @staticmethod\n",
    "    def train_val_test_split(X, y, test_split_factor: float, val_split_factor: float):\n",
    "        '''Get train, validation and test Pandas Dataframes from X (features) and y (label).'''\n",
    "        num_of_data_rows = len(y)\n",
    "        test_size = int(test_split_factor * num_of_data_rows)\n",
    "        val_size = int(val_split_factor * num_of_data_rows)\n",
    "        X_test = X.iloc[0:test_size]\n",
    "        y_test = y.iloc[0:test_size]\n",
    "        X_val = X.iloc[test_size:test_size + val_size]\n",
    "        y_val = y.iloc[test_size:test_size + val_size]\n",
    "        X_train = X.iloc[test_size + val_size:num_of_data_rows]\n",
    "        y_train = y.iloc[test_size + val_size:num_of_data_rows]\n",
    "        return X_test, y_test, X_val, y_val, X_train, y_train"
   ]
  },
  {
   "cell_type": "markdown",
   "id": "c911c320",
   "metadata": {},
   "source": [
    "---"
   ]
  },
  {
   "cell_type": "markdown",
   "id": "03e4fd84",
   "metadata": {},
   "source": [
    "### Shuffling e Split"
   ]
  },
  {
   "cell_type": "code",
   "execution_count": 40,
   "id": "4bd4a9c5",
   "metadata": {},
   "outputs": [],
   "source": [
    "random_state = 0\n",
    "data_shuffled = RegularizationLinearRegressionModel.shuffle_data(data, random_state = random_state)"
   ]
  },
  {
   "cell_type": "code",
   "execution_count": 41,
   "id": "9b16f8fe",
   "metadata": {},
   "outputs": [],
   "source": [
    "X = data_shuffled[features]\n",
    "y = data_shuffled[label]"
   ]
  },
  {
   "cell_type": "code",
   "execution_count": 42,
   "id": "4483b0f6",
   "metadata": {},
   "outputs": [],
   "source": [
    "X_test, y_test, X_val, y_val, X_train, y_train = RegularizationLinearRegressionModel.train_val_test_split(X, y, test_split_factor = 0.2, val_split_factor = 0.2)"
   ]
  },
  {
   "cell_type": "markdown",
   "id": "cb445614",
   "metadata": {},
   "source": [
    "---"
   ]
  },
  {
   "cell_type": "markdown",
   "id": "d8e5994c",
   "metadata": {},
   "source": [
    "# Pré-processamento"
   ]
  },
  {
   "cell_type": "markdown",
   "id": "ca540cd9",
   "metadata": {},
   "source": [
    "#### Obs: o pré-processamento deve vir depois do processo de split, para evitar adicionar viés aos dados de teste por influência dos dados de treino."
   ]
  },
  {
   "cell_type": "markdown",
   "id": "b93ef0ce",
   "metadata": {},
   "source": [
    "### Mudando a escala dos dados para [0, 1]\n",
    "\n",
    "Transformaremos [min, max] -> [0, 1] para cada coluna."
   ]
  },
  {
   "cell_type": "code",
   "execution_count": 43,
   "id": "9e0576b2",
   "metadata": {},
   "outputs": [],
   "source": [
    "def scale(feature, train_feature):\n",
    "    minimum = min(train_feature)\n",
    "    maximum = max(train_feature)\n",
    "    return (feature - minimum)/(maximum - minimum)"
   ]
  },
  {
   "cell_type": "code",
   "execution_count": 44,
   "id": "59d4c3f0",
   "metadata": {},
   "outputs": [],
   "source": [
    "unscaled_X_train= X_train.copy()\n",
    "X_train_scaled = X_train.copy()\n",
    "X_val_scaled = X_val.copy()\n",
    "X_test_scaled = X_test.copy()\n",
    "for feature in features:\n",
    "    X_train_scaled[feature] = scale(X_train_scaled[feature], unscaled_X_train[feature])\n",
    "    X_val_scaled[feature] = scale(X_val_scaled[feature], unscaled_X_train[feature])\n",
    "    X_test_scaled[feature] = scale(X_test_scaled[feature], unscaled_X_train[feature])"
   ]
  },
  {
   "cell_type": "markdown",
   "id": "82694051",
   "metadata": {},
   "source": [
    "---"
   ]
  },
  {
   "cell_type": "markdown",
   "id": "949825b0",
   "metadata": {},
   "source": [
    "## Treinamento"
   ]
  },
  {
   "cell_type": "markdown",
   "id": "4fc4af98",
   "metadata": {},
   "source": [
    "#### Vamos variar valores de lambda de 0 a 1 para verificar o que acontece com o custo e com a complexidade do modelo, mantendo os outros parâmetros constantes."
   ]
  },
  {
   "cell_type": "code",
   "execution_count": 45,
   "id": "d49185bb",
   "metadata": {},
   "outputs": [],
   "source": [
    "lambda_reg_vals = np.arange(0, 1.1, 0.1)"
   ]
  },
  {
   "cell_type": "code",
   "execution_count": 46,
   "id": "537c5e62",
   "metadata": {},
   "outputs": [
    {
     "data": {
      "text/plain": [
       "array([0. , 0.1, 0.2, 0.3, 0.4, 0.5, 0.6, 0.7, 0.8, 0.9, 1. ])"
      ]
     },
     "execution_count": 46,
     "metadata": {},
     "output_type": "execute_result"
    }
   ],
   "source": [
    "lambda_reg_vals"
   ]
  },
  {
   "cell_type": "code",
   "execution_count": 47,
   "id": "c618b6c9",
   "metadata": {},
   "outputs": [],
   "source": [
    "ws = list(np.zeros(len(features)))\n",
    "b = 0\n",
    "alpha = 0.1\n",
    "models = []\n",
    "for lambda_reg in lambda_reg_vals:\n",
    "    model = RegularizationLinearRegressionModel(features = X_train_scaled,\n",
    "                                label = y_train, ws = ws, b = b, alpha = alpha, \n",
    "                                lambda_reg = lambda_reg, random_state = random_state)\n",
    "    model.sgd(iterations = 50, batch_size = 40)\n",
    "    models.append(model)"
   ]
  },
  {
   "cell_type": "code",
   "execution_count": 48,
   "id": "d9e2689f",
   "metadata": {},
   "outputs": [],
   "source": [
    "n = len(lambda_reg_vals)\n",
    "i_vals = list(range(n))\n",
    "lambda_row = {f'Model {i}': model.lambda_reg for (i, model) in zip(i_vals, models)}"
   ]
  },
  {
   "cell_type": "code",
   "execution_count": 49,
   "id": "06c06758",
   "metadata": {},
   "outputs": [
    {
     "data": {
      "text/plain": [
       "{'Model 0': 0.0039226276898096865,\n",
       " 'Model 1': 0.0057250390532882405,\n",
       " 'Model 2': 0.007203432884733115,\n",
       " 'Model 3': 0.008475980998704346,\n",
       " 'Model 4': 0.009566053957894548,\n",
       " 'Model 5': 0.010498913771121743,\n",
       " 'Model 6': 0.011300356652900122,\n",
       " 'Model 7': 0.011993137960777039,\n",
       " 'Model 8': 0.01259614649668789,\n",
       " 'Model 9': 0.013124694624001442,\n",
       " 'Model 10': 0.013591106351524197}"
      ]
     },
     "execution_count": 49,
     "metadata": {},
     "output_type": "execute_result"
    }
   ],
   "source": [
    "training_loss_row"
   ]
  },
  {
   "cell_type": "code",
   "execution_count": 50,
   "id": "f9380ba5",
   "metadata": {},
   "outputs": [],
   "source": [
    "df_models = pd.DataFrame([lambda_row])\n",
    "training_loss_row = {f'Model {i}': model.get_loss(X_train_scaled, y_train) for (i, model) in zip(i_vals, models)}\n",
    "val_loss_row = {f'Model {i}': model.get_loss(X_val_scaled, y_val) for (i, model) in zip(i_vals, models)}\n",
    "test_loss_row = {f'Model {i}': model.get_loss(X_test_scaled, y_test) for (i, model) in zip(i_vals, models)}\n",
    "complexity_row = {f'Model {i}': model.get_complexity() for (i, model) in zip(i_vals, models)}\n",
    "\n",
    "df_models = pd.concat([df_models, pd.DataFrame(training_loss_row, index = ['Training Loss'])], axis = 0)\n",
    "df_models = pd.concat([df_models, pd.DataFrame(val_loss_row, index = ['Validation Loss'])], axis = 0)\n",
    "df_models = pd.concat([df_models, pd.DataFrame(test_loss_row, index = ['Test Loss'])], axis = 0)\n",
    "df_models = pd.concat([df_models, pd.DataFrame(complexity_row, index = ['Complexity'])], axis = 0)\n",
    "df_models = df_models.rename(index ={0: 'Lambda', 1: 'Training Loss', 2: 'Validation Loss', 3: 'Test Loss', 4: 'Complexity'})"
   ]
  },
  {
   "cell_type": "code",
   "execution_count": 51,
   "id": "68c0df44",
   "metadata": {},
   "outputs": [
    {
     "data": {
      "text/html": [
       "<div>\n",
       "<style scoped>\n",
       "    .dataframe tbody tr th:only-of-type {\n",
       "        vertical-align: middle;\n",
       "    }\n",
       "\n",
       "    .dataframe tbody tr th {\n",
       "        vertical-align: top;\n",
       "    }\n",
       "\n",
       "    .dataframe thead th {\n",
       "        text-align: right;\n",
       "    }\n",
       "</style>\n",
       "<table border=\"1\" class=\"dataframe\">\n",
       "  <thead>\n",
       "    <tr style=\"text-align: right;\">\n",
       "      <th></th>\n",
       "      <th>Model 0</th>\n",
       "      <th>Model 1</th>\n",
       "      <th>Model 2</th>\n",
       "      <th>Model 3</th>\n",
       "      <th>Model 4</th>\n",
       "      <th>Model 5</th>\n",
       "      <th>Model 6</th>\n",
       "      <th>Model 7</th>\n",
       "      <th>Model 8</th>\n",
       "      <th>Model 9</th>\n",
       "      <th>Model 10</th>\n",
       "    </tr>\n",
       "  </thead>\n",
       "  <tbody>\n",
       "    <tr>\n",
       "      <th>Lambda</th>\n",
       "      <td>0.000000</td>\n",
       "      <td>0.100000</td>\n",
       "      <td>0.200000</td>\n",
       "      <td>0.300000</td>\n",
       "      <td>0.400000</td>\n",
       "      <td>0.500000</td>\n",
       "      <td>0.600000</td>\n",
       "      <td>0.700000</td>\n",
       "      <td>0.800000</td>\n",
       "      <td>0.900000</td>\n",
       "      <td>1.000000</td>\n",
       "    </tr>\n",
       "    <tr>\n",
       "      <th>Training Loss</th>\n",
       "      <td>0.003923</td>\n",
       "      <td>0.005725</td>\n",
       "      <td>0.007203</td>\n",
       "      <td>0.008476</td>\n",
       "      <td>0.009566</td>\n",
       "      <td>0.010499</td>\n",
       "      <td>0.011300</td>\n",
       "      <td>0.011993</td>\n",
       "      <td>0.012596</td>\n",
       "      <td>0.013125</td>\n",
       "      <td>0.013591</td>\n",
       "    </tr>\n",
       "    <tr>\n",
       "      <th>Validation Loss</th>\n",
       "      <td>0.004395</td>\n",
       "      <td>0.004876</td>\n",
       "      <td>0.005715</td>\n",
       "      <td>0.006519</td>\n",
       "      <td>0.007241</td>\n",
       "      <td>0.007875</td>\n",
       "      <td>0.008429</td>\n",
       "      <td>0.008913</td>\n",
       "      <td>0.009339</td>\n",
       "      <td>0.009714</td>\n",
       "      <td>0.010047</td>\n",
       "    </tr>\n",
       "    <tr>\n",
       "      <th>Test Loss</th>\n",
       "      <td>0.004752</td>\n",
       "      <td>0.005954</td>\n",
       "      <td>0.007051</td>\n",
       "      <td>0.008008</td>\n",
       "      <td>0.008836</td>\n",
       "      <td>0.009551</td>\n",
       "      <td>0.010169</td>\n",
       "      <td>0.010706</td>\n",
       "      <td>0.011175</td>\n",
       "      <td>0.011587</td>\n",
       "      <td>0.011953</td>\n",
       "    </tr>\n",
       "    <tr>\n",
       "      <th>Complexity</th>\n",
       "      <td>0.095118</td>\n",
       "      <td>0.031340</td>\n",
       "      <td>0.020590</td>\n",
       "      <td>0.015087</td>\n",
       "      <td>0.011690</td>\n",
       "      <td>0.009403</td>\n",
       "      <td>0.007777</td>\n",
       "      <td>0.006572</td>\n",
       "      <td>0.005652</td>\n",
       "      <td>0.004932</td>\n",
       "      <td>0.004356</td>\n",
       "    </tr>\n",
       "  </tbody>\n",
       "</table>\n",
       "</div>"
      ],
      "text/plain": [
       "                  Model 0   Model 1   Model 2   Model 3   Model 4   Model 5  \\\n",
       "Lambda           0.000000  0.100000  0.200000  0.300000  0.400000  0.500000   \n",
       "Training Loss    0.003923  0.005725  0.007203  0.008476  0.009566  0.010499   \n",
       "Validation Loss  0.004395  0.004876  0.005715  0.006519  0.007241  0.007875   \n",
       "Test Loss        0.004752  0.005954  0.007051  0.008008  0.008836  0.009551   \n",
       "Complexity       0.095118  0.031340  0.020590  0.015087  0.011690  0.009403   \n",
       "\n",
       "                  Model 6   Model 7   Model 8   Model 9  Model 10  \n",
       "Lambda           0.600000  0.700000  0.800000  0.900000  1.000000  \n",
       "Training Loss    0.011300  0.011993  0.012596  0.013125  0.013591  \n",
       "Validation Loss  0.008429  0.008913  0.009339  0.009714  0.010047  \n",
       "Test Loss        0.010169  0.010706  0.011175  0.011587  0.011953  \n",
       "Complexity       0.007777  0.006572  0.005652  0.004932  0.004356  "
      ]
     },
     "execution_count": 51,
     "metadata": {},
     "output_type": "execute_result"
    }
   ],
   "source": [
    "df_models"
   ]
  },
  {
   "cell_type": "markdown",
   "id": "f32833c1",
   "metadata": {},
   "source": [
    "Verificamos justamente o esperado:\n",
    "\n",
    "- __Aumento do valor de Lambda $\\rightarrow$ Diminuição da Complexidade e Aumento do Custo do Modelo em todos os dados.__"
   ]
  },
  {
   "cell_type": "markdown",
   "id": "63af8a6f",
   "metadata": {},
   "source": [
    "### Podemos verificar esse fato graficamente também:"
   ]
  },
  {
   "cell_type": "code",
   "execution_count": 52,
   "id": "bc78ea15",
   "metadata": {
    "scrolled": true
   },
   "outputs": [
    {
     "data": {
      "image/png": "[encoded data removed]",
      "text/plain": [
       "<Figure size 1000x800 with 1 Axes>"
      ]
     },
     "metadata": {},
     "output_type": "display_data"
    }
   ],
   "source": [
    "plt.figure(figsize=(10, 8))\n",
    "plt.plot(lambda_row.values(), complexity_row.values())\n",
    "plt.plot(lambda_row.values(), training_loss_row.values())\n",
    "plt.plot(lambda_row.values(), val_loss_row.values())\n",
    "plt.plot(lambda_row.values(), test_loss_row.values())\n",
    "plt.title('Complexity x Lambda')\n",
    "plt.xlabel('Lambda')\n",
    "plt.ylabel('Complexity')\n",
    "plt.legend(['Complexity', 'Training Loss', 'Validation Loss', 'Test Loss'])\n",
    "plt.show()"
   ]
  },
  {
   "cell_type": "markdown",
   "id": "112eecd9",
   "metadata": {},
   "source": [
    "### Vamos adicionar também o cálculo do risco estrutural para cada modelo em cada conjunto de dados:"
   ]
  },
  {
   "cell_type": "code",
   "execution_count": 53,
   "id": "2b2f50f1",
   "metadata": {
    "scrolled": true
   },
   "outputs": [],
   "source": [
    "training_sr_row = {f'Model {i}': model.get_structural_risk(X_train_scaled, y_train) for (i, model) in zip(i_vals, models)}\n",
    "val_sr_row = {f'Model {i}': model.get_structural_risk(X_val_scaled, y_val) for (i, model) in zip(i_vals, models)}\n",
    "test_sr_row = {f'Model {i}': model.get_structural_risk(X_test_scaled, y_test) for (i, model) in zip(i_vals, models)}\n",
    "\n",
    "df_models = pd.concat([df_models, pd.DataFrame(training_sr_row, index = ['Training Structural Risk'])])\n",
    "df_models = pd.concat([df_models, pd.DataFrame(val_sr_row, index = ['Validation Structural Risk'])])\n",
    "df_models = pd.concat([df_models, pd.DataFrame(test_sr_row, index = ['Test Structural Risk'])])"
   ]
  },
  {
   "cell_type": "code",
   "execution_count": 54,
   "id": "e6a5c902",
   "metadata": {
    "scrolled": false
   },
   "outputs": [
    {
     "data": {
      "text/html": [
       "<div>\n",
       "<style scoped>\n",
       "    .dataframe tbody tr th:only-of-type {\n",
       "        vertical-align: middle;\n",
       "    }\n",
       "\n",
       "    .dataframe tbody tr th {\n",
       "        vertical-align: top;\n",
       "    }\n",
       "\n",
       "    .dataframe thead th {\n",
       "        text-align: right;\n",
       "    }\n",
       "</style>\n",
       "<table border=\"1\" class=\"dataframe\">\n",
       "  <thead>\n",
       "    <tr style=\"text-align: right;\">\n",
       "      <th></th>\n",
       "      <th>Model 0</th>\n",
       "      <th>Model 1</th>\n",
       "      <th>Model 2</th>\n",
       "      <th>Model 3</th>\n",
       "      <th>Model 4</th>\n",
       "      <th>Model 5</th>\n",
       "      <th>Model 6</th>\n",
       "      <th>Model 7</th>\n",
       "      <th>Model 8</th>\n",
       "      <th>Model 9</th>\n",
       "      <th>Model 10</th>\n",
       "    </tr>\n",
       "  </thead>\n",
       "  <tbody>\n",
       "    <tr>\n",
       "      <th>Lambda</th>\n",
       "      <td>0.000000</td>\n",
       "      <td>0.100000</td>\n",
       "      <td>0.200000</td>\n",
       "      <td>0.300000</td>\n",
       "      <td>0.400000</td>\n",
       "      <td>0.500000</td>\n",
       "      <td>0.600000</td>\n",
       "      <td>0.700000</td>\n",
       "      <td>0.800000</td>\n",
       "      <td>0.900000</td>\n",
       "      <td>1.000000</td>\n",
       "    </tr>\n",
       "    <tr>\n",
       "      <th>Training Loss</th>\n",
       "      <td>0.003923</td>\n",
       "      <td>0.005725</td>\n",
       "      <td>0.007203</td>\n",
       "      <td>0.008476</td>\n",
       "      <td>0.009566</td>\n",
       "      <td>0.010499</td>\n",
       "      <td>0.011300</td>\n",
       "      <td>0.011993</td>\n",
       "      <td>0.012596</td>\n",
       "      <td>0.013125</td>\n",
       "      <td>0.013591</td>\n",
       "    </tr>\n",
       "    <tr>\n",
       "      <th>Validation Loss</th>\n",
       "      <td>0.004395</td>\n",
       "      <td>0.004876</td>\n",
       "      <td>0.005715</td>\n",
       "      <td>0.006519</td>\n",
       "      <td>0.007241</td>\n",
       "      <td>0.007875</td>\n",
       "      <td>0.008429</td>\n",
       "      <td>0.008913</td>\n",
       "      <td>0.009339</td>\n",
       "      <td>0.009714</td>\n",
       "      <td>0.010047</td>\n",
       "    </tr>\n",
       "    <tr>\n",
       "      <th>Test Loss</th>\n",
       "      <td>0.004752</td>\n",
       "      <td>0.005954</td>\n",
       "      <td>0.007051</td>\n",
       "      <td>0.008008</td>\n",
       "      <td>0.008836</td>\n",
       "      <td>0.009551</td>\n",
       "      <td>0.010169</td>\n",
       "      <td>0.010706</td>\n",
       "      <td>0.011175</td>\n",
       "      <td>0.011587</td>\n",
       "      <td>0.011953</td>\n",
       "    </tr>\n",
       "    <tr>\n",
       "      <th>Complexity</th>\n",
       "      <td>0.095118</td>\n",
       "      <td>0.031340</td>\n",
       "      <td>0.020590</td>\n",
       "      <td>0.015087</td>\n",
       "      <td>0.011690</td>\n",
       "      <td>0.009403</td>\n",
       "      <td>0.007777</td>\n",
       "      <td>0.006572</td>\n",
       "      <td>0.005652</td>\n",
       "      <td>0.004932</td>\n",
       "      <td>0.004356</td>\n",
       "    </tr>\n",
       "    <tr>\n",
       "      <th>Training Structural Risk</th>\n",
       "      <td>0.003923</td>\n",
       "      <td>0.008859</td>\n",
       "      <td>0.011321</td>\n",
       "      <td>0.013002</td>\n",
       "      <td>0.014242</td>\n",
       "      <td>0.015201</td>\n",
       "      <td>0.015966</td>\n",
       "      <td>0.016594</td>\n",
       "      <td>0.017118</td>\n",
       "      <td>0.017563</td>\n",
       "      <td>0.017947</td>\n",
       "    </tr>\n",
       "    <tr>\n",
       "      <th>Validation Structural Risk</th>\n",
       "      <td>0.004395</td>\n",
       "      <td>0.008010</td>\n",
       "      <td>0.009833</td>\n",
       "      <td>0.011045</td>\n",
       "      <td>0.011917</td>\n",
       "      <td>0.012577</td>\n",
       "      <td>0.013095</td>\n",
       "      <td>0.013514</td>\n",
       "      <td>0.013861</td>\n",
       "      <td>0.014153</td>\n",
       "      <td>0.014403</td>\n",
       "    </tr>\n",
       "    <tr>\n",
       "      <th>Test Structural Risk</th>\n",
       "      <td>0.004752</td>\n",
       "      <td>0.009088</td>\n",
       "      <td>0.011169</td>\n",
       "      <td>0.012534</td>\n",
       "      <td>0.013512</td>\n",
       "      <td>0.014253</td>\n",
       "      <td>0.014835</td>\n",
       "      <td>0.015306</td>\n",
       "      <td>0.015697</td>\n",
       "      <td>0.016026</td>\n",
       "      <td>0.016308</td>\n",
       "    </tr>\n",
       "  </tbody>\n",
       "</table>\n",
       "</div>"
      ],
      "text/plain": [
       "                             Model 0   Model 1   Model 2   Model 3   Model 4  \\\n",
       "Lambda                      0.000000  0.100000  0.200000  0.300000  0.400000   \n",
       "Training Loss               0.003923  0.005725  0.007203  0.008476  0.009566   \n",
       "Validation Loss             0.004395  0.004876  0.005715  0.006519  0.007241   \n",
       "Test Loss                   0.004752  0.005954  0.007051  0.008008  0.008836   \n",
       "Complexity                  0.095118  0.031340  0.020590  0.015087  0.011690   \n",
       "Training Structural Risk    0.003923  0.008859  0.011321  0.013002  0.014242   \n",
       "Validation Structural Risk  0.004395  0.008010  0.009833  0.011045  0.011917   \n",
       "Test Structural Risk        0.004752  0.009088  0.011169  0.012534  0.013512   \n",
       "\n",
       "                             Model 5   Model 6   Model 7   Model 8   Model 9  \\\n",
       "Lambda                      0.500000  0.600000  0.700000  0.800000  0.900000   \n",
       "Training Loss               0.010499  0.011300  0.011993  0.012596  0.013125   \n",
       "Validation Loss             0.007875  0.008429  0.008913  0.009339  0.009714   \n",
       "Test Loss                   0.009551  0.010169  0.010706  0.011175  0.011587   \n",
       "Complexity                  0.009403  0.007777  0.006572  0.005652  0.004932   \n",
       "Training Structural Risk    0.015201  0.015966  0.016594  0.017118  0.017563   \n",
       "Validation Structural Risk  0.012577  0.013095  0.013514  0.013861  0.014153   \n",
       "Test Structural Risk        0.014253  0.014835  0.015306  0.015697  0.016026   \n",
       "\n",
       "                            Model 10  \n",
       "Lambda                      1.000000  \n",
       "Training Loss               0.013591  \n",
       "Validation Loss             0.010047  \n",
       "Test Loss                   0.011953  \n",
       "Complexity                  0.004356  \n",
       "Training Structural Risk    0.017947  \n",
       "Validation Structural Risk  0.014403  \n",
       "Test Structural Risk        0.016308  "
      ]
     },
     "execution_count": 54,
     "metadata": {},
     "output_type": "execute_result"
    }
   ],
   "source": [
    "df_models"
   ]
  },
  {
   "cell_type": "markdown",
   "id": "cac0545c",
   "metadata": {},
   "source": [
    "- A análise dos riscos estruturais dos modelos nos indica a mesma resposta da análise dos valores de perda do modelo nos dados de treinamento, validação e de teste, que nos leva a crer que o modelo com $lambda = 0$ é o melhor, dado que possui menores perdas e tais valores nos três datasets são muito próximos, negando a possibilidade de overfitting nos dados de treino. Tal modelo também é aquele com os menores riscos estruturais."
   ]
  },
  {
   "cell_type": "markdown",
   "id": "3ca409af",
   "metadata": {},
   "source": [
    "### Verificando que de fato os pesos das features diminuem:"
   ]
  },
  {
   "cell_type": "code",
   "execution_count": 55,
   "id": "b7cfbba1",
   "metadata": {},
   "outputs": [
    {
     "name": "stdout",
     "output_type": "stream",
     "text": [
      "Model 0\n",
      "w1 = 0.14174274209354215\n",
      "w2 = 0.10863311875576745\n",
      "w3 = 0.01776861401521847\n",
      "w4 = 0.028607824515976366\n",
      "w5 = 0.1022928246768124\n",
      "w6 = 0.22656329283530283\n",
      "w7 = 0.017242106120310127\n",
      "b = 0.3550341551219084\n",
      "\n",
      "\n",
      "Model 1\n",
      "w1 = 0.07984815357187275\n",
      "w2 = 0.07016538672353434\n",
      "w3 = 0.06415558817164227\n",
      "w4 = 0.05460540952416398\n",
      "w5 = 0.05820468636510164\n",
      "w6 = 0.08464947849853947\n",
      "w7 = 0.04889284290124379\n",
      "b = 0.46845444572051353\n",
      "\n",
      "\n",
      "Model 2\n",
      "w1 = 0.06061523471894465\n",
      "w2 = 0.0547037918805266\n",
      "w3 = 0.05644712804541835\n",
      "w4 = 0.04785853676985291\n",
      "w5 = 0.04687537483079832\n",
      "w6 = 0.060762210858912584\n",
      "w7 = 0.05057210405819076\n",
      "b = 0.518830835851193\n",
      "\n",
      "\n",
      "Model 3\n",
      "w1 = 0.05014787412589012\n",
      "w2 = 0.0456841070618873\n",
      "w3 = 0.04925327623272098\n",
      "w4 = 0.041744590697726715\n",
      "w5 = 0.03991117307578132\n",
      "w6 = 0.04920415278609769\n",
      "w7 = 0.047985465705171856\n",
      "b = 0.5515160074978086\n",
      "\n",
      "\n",
      "Model 4\n",
      "w1 = 0.04324066083004081\n",
      "w2 = 0.039570365347878333\n",
      "w3 = 0.04363067734603353\n",
      "w4 = 0.036968511240883656\n",
      "w5 = 0.03501330462948278\n",
      "w6 = 0.0419366719952874\n",
      "w7 = 0.0447164375961262\n",
      "b = 0.575035427810738\n",
      "\n",
      "\n",
      "Model 5\n",
      "w1 = 0.03824862035637714\n",
      "w2 = 0.03509336216703802\n",
      "w3 = 0.03921668603489437\n",
      "w4 = 0.0332177001950174\n",
      "w5 = 0.03134752834216677\n",
      "w6 = 0.03682797871087514\n",
      "w7 = 0.04157579370196701\n",
      "b = 0.5929132996272422\n",
      "\n",
      "\n",
      "Model 6\n",
      "w1 = 0.03443994368596441\n",
      "w2 = 0.031652150573413286\n",
      "w3 = 0.03568203180162158\n",
      "w4 = 0.0302133028680429\n",
      "w5 = 0.02849115849562717\n",
      "w6 = 0.03300105866567787\n",
      "w7 = 0.038753008116407514\n",
      "b = 0.6070084904016214\n",
      "\n",
      "\n",
      "Model 7\n",
      "w1 = 0.03142529424128167\n",
      "w2 = 0.028915727793009015\n",
      "w3 = 0.03279497829064457\n",
      "w4 = 0.027759017626605167\n",
      "w5 = 0.026199472009208077\n",
      "w6 = 0.03001147275955451\n",
      "w7 = 0.036266482158874326\n",
      "b = 0.6184243086242247\n",
      "\n",
      "\n",
      "Model 8\n",
      "w1 = 0.028973725529853323\n",
      "w2 = 0.02668354485592896\n",
      "w3 = 0.030395367832784185\n",
      "w4 = 0.025719066950610762\n",
      "w5 = 0.024318921017851342\n",
      "w6 = 0.02760436195224333\n",
      "w7 = 0.034086247536587906\n",
      "b = 0.627865647125511\n",
      "\n",
      "\n",
      "Model 9\n",
      "w1 = 0.02693780516409828\n",
      "w2 = 0.02482578837913649\n",
      "w3 = 0.02837067609667144\n",
      "w4 = 0.02399801178147601\n",
      "w5 = 0.022747587058662113\n",
      "w6 = 0.025621037903851646\n",
      "w7 = 0.0321717808305509\n",
      "b = 0.6358069428265694\n",
      "\n",
      "\n",
      "Model 10\n",
      "w1 = 0.025218266307618864\n",
      "w2 = 0.0232542151103964\n",
      "w3 = 0.026640032221994674\n",
      "w4 = 0.022527252560098073\n",
      "w5 = 0.021414884208643237\n",
      "w6 = 0.02395667786457302\n",
      "w7 = 0.030483990848942284\n",
      "b = 0.6425804398065432\n",
      "\n",
      "\n"
     ]
    }
   ],
   "source": [
    "i = 0\n",
    "for model in models:\n",
    "    print(f'Model {i}')\n",
    "    model.print_parameters()\n",
    "    print('\\n')\n",
    "    i += 1"
   ]
  },
  {
   "cell_type": "markdown",
   "id": "4a52db40",
   "metadata": {},
   "source": [
    "### Verificando isso graficamente:"
   ]
  },
  {
   "cell_type": "code",
   "execution_count": 56,
   "id": "4272c00e",
   "metadata": {},
   "outputs": [],
   "source": [
    "ws_str = [f'w{i + 1}' for i in range(len(features))]"
   ]
  },
  {
   "cell_type": "code",
   "execution_count": 57,
   "id": "91f352eb",
   "metadata": {
    "scrolled": true
   },
   "outputs": [
    {
     "data": {
      "text/plain": [
       "['w1', 'w2', 'w3', 'w4', 'w5', 'w6', 'w7']"
      ]
     },
     "execution_count": 57,
     "metadata": {},
     "output_type": "execute_result"
    }
   ],
   "source": [
    "ws_str"
   ]
  },
  {
   "cell_type": "code",
   "execution_count": 58,
   "id": "163c594e",
   "metadata": {},
   "outputs": [],
   "source": [
    "ws = []\n",
    "for w_str in ws_str:\n",
    "    w_list = []\n",
    "    for model in models:\n",
    "        w_list.append(model.get_parameters()[w_str])\n",
    "    ws.append(w_list)"
   ]
  },
  {
   "cell_type": "code",
   "execution_count": 59,
   "id": "15f80c84",
   "metadata": {},
   "outputs": [
    {
     "data": {
      "text/plain": [
       "Text(0, 0.5, 'Weight')"
      ]
     },
     "execution_count": 59,
     "metadata": {},
     "output_type": "execute_result"
    },
    {
     "data": {
      "image/png": "[encoded data removed]",
      "text/plain": [
       "<Figure size 1000x800 with 1 Axes>"
      ]
     },
     "metadata": {},
     "output_type": "display_data"
    }
   ],
   "source": [
    "plt.figure(figsize=(10, 8))\n",
    "for i in range(0, len(features)):\n",
    "    plt.plot(lambda_reg_vals, ws[i])\n",
    "plt.title('Weights x Lambda')\n",
    "plt.xlabel('Lambda')\n",
    "plt.ylabel('Weight')"
   ]
  },
  {
   "cell_type": "markdown",
   "id": "bec9b527",
   "metadata": {},
   "source": [
    "- Vemos que quando aumentamos suficientemente o valor de lambda, os pesos tendem a diminuir e a ficarem próximos de zero, que é justamente a característica de uma Regularização $L_{2}$."
   ]
  },
  {
   "cell_type": "markdown",
   "id": "7d98115e",
   "metadata": {},
   "source": [
    "- Poderíamos analisar também a distribuição dos pesos em cada modelo, verificando que se aproxima de uma distribuição normal na medida em que aumentamos o valor de $\\lambda$. No entanto, como há poucas features, a visualização de tal processo não é boa."
   ]
  }
 ],
 "metadata": {
  "kernelspec": {
   "display_name": "Python 3 (ipykernel)",
   "language": "python",
   "name": "python3"
  },
  "language_info": {
   "codemirror_mode": {
    "name": "ipython",
    "version": 3
   },
   "file_extension": ".py",
   "mimetype": "text/x-python",
   "name": "python",
   "nbconvert_exporter": "python",
   "pygments_lexer": "ipython3",
   "version": "3.9.13"
  }
 },
 "nbformat": 4,
 "nbformat_minor": 5
}
